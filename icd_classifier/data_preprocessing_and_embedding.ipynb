{
  "cells": [
    {
      "cell_type": "code",
      "execution_count": 1,
      "metadata": {
        "collapsed": true,
        "id": "RxK0qC-Q6YqO"
      },
      "outputs": [],
      "source": [
        "import sys\n",
        "import os\n",
        "# sys.path.append('../')\n",
        "from data.utils import reformat\n",
        "from icd_classifier.settings import MIMIC_3_DIR, DATA_DIR\n",
        "from data import extract_wvs\n",
        "from data import get_discharge_summaries\n",
        "from data import build_vocab\n",
        "from data import vocab_index_descriptions\n",
        "from data import word_embeddings\n",
        "from data import concat_and_split\n",
        "\n",
        "import numpy as np\n",
        "import pandas as pd\n",
        "\n",
        "from collections import Counter, defaultdict\n",
        "import csv\n",
        "import math\n",
        "import operator"
      ]
    },
    {
      "cell_type": "markdown",
      "metadata": {
        "id": "MnFT42xP63Mw"
      },
      "source": [
        "# Shared Steps\n"
      ]
    },
    {
      "cell_type": "code",
      "execution_count": 2,
      "metadata": {},
      "outputs": [
        {
          "name": "stdout",
          "output_type": "stream",
          "text": [
            "/home/modestas.filipavicius/dev/icd-classifier/icd_classifier\n",
            "/home/modestas.filipavicius/dev/icd-classifier\n",
            "data/raw\n",
            "data/processed\n"
          ]
        }
      ],
      "source": [
        "# sys and python path magic\n",
        "print(os.getcwd())\n",
        "corrected_path = os.path.split(os.getcwd())[0]\n",
        "os.chdir(corrected_path)\n",
        "print(os.getcwd())\n",
        "\n",
        "print(MIMIC_3_DIR)\n",
        "print(DATA_DIR)"
      ]
    },
    {
      "cell_type": "markdown",
      "metadata": {
        "id": "U8BB0EHj6Yq5"
      },
      "source": [
        "Let's do some data processing in a much better way, with a notebook.\n",
        "\n",
        "First, let's define some stuff."
      ]
    },
    {
      "cell_type": "code",
      "execution_count": 3,
      "metadata": {
        "collapsed": true,
        "id": "RMrl6j8H6Yq8"
      },
      "outputs": [],
      "source": [
        "Y = 'full'  # use all available labels in the dataset for prediction\n",
        "vocab_size = 'full'  # don't limit the vocab size to a specific number\n",
        "vocab_min = 3  # discard tokens appearing in fewer than this many documents"
      ]
    },
    {
      "cell_type": "markdown",
      "metadata": {
        "id": "c6nxnQgA6Yq9"
      },
      "source": [
        "# Data processing"
      ]
    },
    {
      "cell_type": "markdown",
      "metadata": {
        "id": "cD4ITCY16Yq9"
      },
      "source": [
        "## Combine diagnosis and procedure codes and reformat them"
      ]
    },
    {
      "cell_type": "markdown",
      "metadata": {
        "id": "j9BBiJh16Yq9"
      },
      "source": [
        "The codes in MIMIC-III are given in separate files for procedures and diagnoses, and the codes are given without periods, which might lead to collisions if we naively combine them. So we have to add the periods back in the right place."
      ]
    },
    {
      "cell_type": "code",
      "execution_count": 4,
      "metadata": {},
      "outputs": [],
      "source": [
        "\n",
        "dfproc = pd.read_csv('%s/PROCEDURES_ICD.csv.gz' % MIMIC_3_DIR)\n",
        "dfdiag = pd.read_csv('%s/DIAGNOSES_ICD.csv.gz' % MIMIC_3_DIR)"
      ]
    },
    {
      "cell_type": "code",
      "execution_count": 5,
      "metadata": {
        "collapsed": true,
        "id": "vRYs7egY6YrA"
      },
      "outputs": [],
      "source": [
        "dfdiag['absolute_code'] = dfdiag.apply(lambda row: str(reformat(str(row[4]), True)), axis=1)\n",
        "dfproc['absolute_code'] = dfproc.apply(lambda row: str(reformat(str(row[4]), False)), axis=1)"
      ]
    },
    {
      "cell_type": "code",
      "execution_count": 6,
      "metadata": {
        "collapsed": true,
        "id": "TKA6NAAp6YrB"
      },
      "outputs": [],
      "source": [
        "dfcodes = pd.concat([dfdiag, dfproc])"
      ]
    },
    {
      "cell_type": "code",
      "execution_count": 7,
      "metadata": {},
      "outputs": [
        {
          "data": {
            "text/html": [
              "<div>\n",
              "<style scoped>\n",
              "    .dataframe tbody tr th:only-of-type {\n",
              "        vertical-align: middle;\n",
              "    }\n",
              "\n",
              "    .dataframe tbody tr th {\n",
              "        vertical-align: top;\n",
              "    }\n",
              "\n",
              "    .dataframe thead th {\n",
              "        text-align: right;\n",
              "    }\n",
              "</style>\n",
              "<table border=\"1\" class=\"dataframe\">\n",
              "  <thead>\n",
              "    <tr style=\"text-align: right;\">\n",
              "      <th></th>\n",
              "      <th>ROW_ID</th>\n",
              "      <th>SUBJECT_ID</th>\n",
              "      <th>HADM_ID</th>\n",
              "      <th>SEQ_NUM</th>\n",
              "      <th>ICD9_CODE</th>\n",
              "      <th>absolute_code</th>\n",
              "    </tr>\n",
              "  </thead>\n",
              "  <tbody>\n",
              "    <tr>\n",
              "      <th>0</th>\n",
              "      <td>1297</td>\n",
              "      <td>109</td>\n",
              "      <td>172335</td>\n",
              "      <td>1.0</td>\n",
              "      <td>40301</td>\n",
              "      <td>403.01</td>\n",
              "    </tr>\n",
              "    <tr>\n",
              "      <th>1</th>\n",
              "      <td>1298</td>\n",
              "      <td>109</td>\n",
              "      <td>172335</td>\n",
              "      <td>2.0</td>\n",
              "      <td>486</td>\n",
              "      <td>486</td>\n",
              "    </tr>\n",
              "    <tr>\n",
              "      <th>2</th>\n",
              "      <td>1299</td>\n",
              "      <td>109</td>\n",
              "      <td>172335</td>\n",
              "      <td>3.0</td>\n",
              "      <td>58281</td>\n",
              "      <td>582.81</td>\n",
              "    </tr>\n",
              "    <tr>\n",
              "      <th>3</th>\n",
              "      <td>1300</td>\n",
              "      <td>109</td>\n",
              "      <td>172335</td>\n",
              "      <td>4.0</td>\n",
              "      <td>5855</td>\n",
              "      <td>585.5</td>\n",
              "    </tr>\n",
              "    <tr>\n",
              "      <th>4</th>\n",
              "      <td>1301</td>\n",
              "      <td>109</td>\n",
              "      <td>172335</td>\n",
              "      <td>5.0</td>\n",
              "      <td>4254</td>\n",
              "      <td>425.4</td>\n",
              "    </tr>\n",
              "    <tr>\n",
              "      <th>...</th>\n",
              "      <td>...</td>\n",
              "      <td>...</td>\n",
              "      <td>...</td>\n",
              "      <td>...</td>\n",
              "      <td>...</td>\n",
              "      <td>...</td>\n",
              "    </tr>\n",
              "    <tr>\n",
              "      <th>240090</th>\n",
              "      <td>228330</td>\n",
              "      <td>67415</td>\n",
              "      <td>150871</td>\n",
              "      <td>5.0</td>\n",
              "      <td>3736</td>\n",
              "      <td>37.36</td>\n",
              "    </tr>\n",
              "    <tr>\n",
              "      <th>240091</th>\n",
              "      <td>228331</td>\n",
              "      <td>67415</td>\n",
              "      <td>150871</td>\n",
              "      <td>6.0</td>\n",
              "      <td>3893</td>\n",
              "      <td>38.93</td>\n",
              "    </tr>\n",
              "    <tr>\n",
              "      <th>240092</th>\n",
              "      <td>228332</td>\n",
              "      <td>67415</td>\n",
              "      <td>150871</td>\n",
              "      <td>7.0</td>\n",
              "      <td>8872</td>\n",
              "      <td>88.72</td>\n",
              "    </tr>\n",
              "    <tr>\n",
              "      <th>240093</th>\n",
              "      <td>228333</td>\n",
              "      <td>67415</td>\n",
              "      <td>150871</td>\n",
              "      <td>8.0</td>\n",
              "      <td>3893</td>\n",
              "      <td>38.93</td>\n",
              "    </tr>\n",
              "    <tr>\n",
              "      <th>240094</th>\n",
              "      <td>228334</td>\n",
              "      <td>67415</td>\n",
              "      <td>150871</td>\n",
              "      <td>9.0</td>\n",
              "      <td>3722</td>\n",
              "      <td>37.22</td>\n",
              "    </tr>\n",
              "  </tbody>\n",
              "</table>\n",
              "<p>891142 rows × 6 columns</p>\n",
              "</div>"
            ],
            "text/plain": [
              "        ROW_ID  SUBJECT_ID  HADM_ID  SEQ_NUM ICD9_CODE absolute_code\n",
              "0         1297         109   172335      1.0     40301        403.01\n",
              "1         1298         109   172335      2.0       486           486\n",
              "2         1299         109   172335      3.0     58281        582.81\n",
              "3         1300         109   172335      4.0      5855         585.5\n",
              "4         1301         109   172335      5.0      4254         425.4\n",
              "...        ...         ...      ...      ...       ...           ...\n",
              "240090  228330       67415   150871      5.0      3736         37.36\n",
              "240091  228331       67415   150871      6.0      3893         38.93\n",
              "240092  228332       67415   150871      7.0      8872         88.72\n",
              "240093  228333       67415   150871      8.0      3893         38.93\n",
              "240094  228334       67415   150871      9.0      3722         37.22\n",
              "\n",
              "[891142 rows x 6 columns]"
            ]
          },
          "execution_count": 7,
          "metadata": {},
          "output_type": "execute_result"
        }
      ],
      "source": [
        "dfcodes"
      ]
    },
    {
      "cell_type": "code",
      "execution_count": 8,
      "metadata": {},
      "outputs": [],
      "source": [
        "# use below if COLUMNS ARE in LOWER CASE!\n",
        "dfcodes.to_csv('%s/ALL_CODES.csv' % MIMIC_3_DIR, index=False,\n",
        "               columns=['ROW_ID', 'SUBJECT_ID', 'HADM_ID', 'SEQ_NUM', 'absolute_code'],\n",
        "               header=['ROW_ID', 'SUBJECT_ID', 'HADM_ID', 'SEQ_NUM', 'ICD9_CODE'])\n",
        "\n",
        "# dfcodes.to_csv('%s/ALL_CODES.csv' % MIMIC_3_DIR, index=False,\n",
        "#                columns=['row_id', 'subject_id', 'hadm_id', 'seq_num', 'absolute_code'],\n",
        "#                header=['ROW_ID', 'SUBJECT_ID', 'HADM_ID', 'SEQ_NUM', 'ICD9_CODE'])"
      ]
    },
    {
      "cell_type": "markdown",
      "metadata": {
        "id": "Zdu8UTdn6Yrr"
      },
      "source": [
        "## How many codes are there?"
      ]
    },
    {
      "cell_type": "code",
      "execution_count": 9,
      "metadata": {
        "colab": {
          "base_uri": "https://localhost:8080/"
        },
        "id": "S4bXi0WO6Yru",
        "outputId": "5c78ab79-5014-4e53-b28e-561a7909daf6"
      },
      "outputs": [
        {
          "data": {
            "text/plain": [
              "8994"
            ]
          },
          "execution_count": 9,
          "metadata": {},
          "output_type": "execute_result"
        }
      ],
      "source": [
        "# In the full dataset (not just discharge summaries)\n",
        "df = pd.read_csv('%s/ALL_CODES.csv' % MIMIC_3_DIR, dtype={\"ICD9_CODE\": str})\n",
        "# 8994 unique codes\n",
        "len(df['ICD9_CODE'].unique())"
      ]
    },
    {
      "cell_type": "code",
      "execution_count": 13,
      "metadata": {},
      "outputs": [
        {
          "data": {
            "text/plain": [
              "ICD9_CODE\n",
              "401.9        20703\n",
              "38.93        14731\n",
              "428.0        13111\n",
              "427.31       12891\n",
              "414.01       12429\n",
              "96.04        10333\n",
              "96.6          9300\n",
              "584.9         9119\n",
              "96.71         9100\n",
              "250.00        9058\n",
              "272.4         8690\n",
              "518.81        7497\n",
              "99.04         7244\n",
              "39.61         6838\n",
              "599.0         6555\n",
              "530.81        6326\n",
              "96.72         6048\n",
              "272.0         5930\n",
              "99.55         5842\n",
              "V05.3         5779\n",
              "dtype: int64"
            ]
          },
          "execution_count": 13,
          "metadata": {},
          "output_type": "execute_result"
        }
      ],
      "source": [
        "codes_df = pd.DataFrame(df['ICD9_CODE'])\n",
        "codes_df.value_counts()[:20]\n",
        "# TODO: find a way to plot Zipfs law\n",
        "# ICD9_CODE\n",
        "# 401.9        20703\n",
        "# 38.93        14731\n",
        "# 428.0        13111\n",
        "# 427.31       12891\n",
        "# 414.01       12429\n",
        "# 96.04        10333\n",
        "# 96.6          9300\n"
      ]
    },
    {
      "attachments": {},
      "cell_type": "markdown",
      "metadata": {
        "id": "Z1PUWV6Z6Yrv"
      },
      "source": [
        "## Tokenize and preprocess raw text --> `disch_full.csv`"
      ]
    },
    {
      "cell_type": "markdown",
      "metadata": {
        "id": "veisk8__6Yrw"
      },
      "source": [
        "Preprocessing time!\n",
        "\n",
        "This will:\n",
        "- Select only discharge summaries and their addenda\n",
        "- remove punctuation and numeric-only tokens, removing 500 but keeping 250mg\n",
        "- lowercase all tokens"
      ]
    },
    {
      "cell_type": "code",
      "execution_count": 10,
      "metadata": {},
      "outputs": [],
      "source": [
        "notes_file = \"%s/NOTEEVENTS.csv.gz\" % MIMIC_3_DIR\n",
        "out_file = \"%s/disch_full.csv\" % MIMIC_3_DIR"
      ]
    },
    {
      "cell_type": "code",
      "execution_count": 11,
      "metadata": {
        "colab": {
          "base_uri": "https://localhost:8080/"
        },
        "id": "LDha-98t6Yrx",
        "outputId": "81153584-243a-448d-860d-ae8227dd1a0a"
      },
      "outputs": [
        {
          "name": "stdout",
          "output_type": "stream",
          "text": [
            "processing notes file\n",
            "writing to data/raw/disch_full.csv\n"
          ]
        },
        {
          "name": "stderr",
          "output_type": "stream",
          "text": [
            "2083180it [01:17, 26844.24it/s]\n"
          ]
        }
      ],
      "source": [
        "# This reads all notes, selects only the discharge summaries, and tokenizes them, returning the output filename\n",
        "# 2083180it\n",
        "disch_full_file = get_discharge_summaries.write_discharge_summaries(notes_file, out_file)"
      ]
    },
    {
      "cell_type": "markdown",
      "metadata": {
        "id": "m2A5-Jtl6Yrx"
      },
      "source": [
        "Let's read this in and see what kind of data we're working with"
      ]
    },
    {
      "cell_type": "code",
      "execution_count": 12,
      "metadata": {
        "collapsed": true,
        "id": "rRBLgjYA6Yry"
      },
      "outputs": [],
      "source": [
        "df = pd.read_csv('%s/disch_full.csv' % MIMIC_3_DIR)"
      ]
    },
    {
      "cell_type": "code",
      "execution_count": 13,
      "metadata": {},
      "outputs": [
        {
          "name": "stdout",
          "output_type": "stream",
          "text": [
            "<class 'pandas.core.frame.DataFrame'>\n",
            "RangeIndex: 59652 entries, 0 to 59651\n",
            "Data columns (total 4 columns):\n",
            " #   Column      Non-Null Count  Dtype  \n",
            "---  ------      --------------  -----  \n",
            " 0   SUBJECT_ID  59652 non-null  int64  \n",
            " 1   HADM_ID     59652 non-null  int64  \n",
            " 2   CHARTTIME   0 non-null      float64\n",
            " 3   TEXT        59652 non-null  object \n",
            "dtypes: float64(1), int64(2), object(1)\n",
            "memory usage: 1.8+ MB\n"
          ]
        }
      ],
      "source": [
        "df.info()\n",
        "# Data columns (total 4 columns):\n",
        "#  #   Column      Non-Null Count  Dtype  \n",
        "# ---  ------      --------------  -----  \n",
        "#  0   SUBJECT_ID  59652 non-null  int64  \n",
        "#  1   HADM_ID     59652 non-null  int64  \n",
        "#  2   CHARTTIME   0 non-null      float64\n",
        "#  3   TEXT        59652 non-null  object \n",
        "# dtypes: float64(1), int64(2), object(1)\n",
        "# memory usage: 1.8+ MB\n"
      ]
    },
    {
      "cell_type": "code",
      "execution_count": 14,
      "metadata": {
        "colab": {
          "base_uri": "https://localhost:8080/"
        },
        "id": "zBsQSu4-6Yrz",
        "outputId": "1505332a-62c2-4117-aa00-cccd32127cd5"
      },
      "outputs": [
        {
          "data": {
            "text/plain": [
              "52726"
            ]
          },
          "execution_count": 14,
          "metadata": {},
          "output_type": "execute_result"
        }
      ],
      "source": [
        "# How many admissions?\n",
        "# 58,976\n",
        "len(df['HADM_ID'].unique())"
      ]
    },
    {
      "cell_type": "code",
      "execution_count": 15,
      "metadata": {
        "collapsed": true,
        "id": "wTQdw9Rw6Yr0"
      },
      "outputs": [],
      "source": [
        "# Total word tokens and unique words from df['TEXT']\n",
        "# unique_words: {'hemodynacmially', 'walkway', 'costaphrenic', .., 'lately', 'constipaiton', 'excoriate'}\n",
        "unique_words = set()\n",
        "num_tok = 0\n",
        "for row in df.itertuples():\n",
        "    for word in row[4].split():\n",
        "        unique_words.add(word)\n",
        "        num_tok += 1"
      ]
    },
    {
      "cell_type": "code",
      "execution_count": 17,
      "metadata": {
        "colab": {
          "base_uri": "https://localhost:8080/"
        },
        "id": "YJRIt5Ax6Ysc",
        "outputId": "a1fe56e6-4840-4e15-bdee-3ba8ae6a2cea"
      },
      "outputs": [
        {
          "name": "stdout",
          "output_type": "stream",
          "text": [
            "Num unique words:  150854\n",
            "Num word tokens:  79801387\n"
          ]
        }
      ],
      "source": [
        "# Num unique words 150,854\n",
        "# Num word tokens 79,801,387\n",
        "print(\"Num unique words: \", len(unique_words))\n",
        "print(\"Num word tokens: \", str(num_tok))"
      ]
    },
    {
      "cell_type": "code",
      "execution_count": 18,
      "metadata": {
        "collapsed": true,
        "id": "BjBBnokl6Ysd"
      },
      "outputs": [],
      "source": [
        "# Let's sort by SUBJECT_ID and HADM_ID to make a correspondence\n",
        "# with the MIMIC-3 label file\n",
        "df = df.sort_values(['SUBJECT_ID', 'HADM_ID'])"
      ]
    },
    {
      "cell_type": "code",
      "execution_count": 19,
      "metadata": {
        "colab": {
          "base_uri": "https://localhost:8080/"
        },
        "id": "w4tDxreQ6Ysd",
        "outputId": "b2bfe18b-da7e-4708-b068-549c8f0b2c78"
      },
      "outputs": [
        {
          "name": "stderr",
          "output_type": "stream",
          "text": [
            "/tmp/ipykernel_881882/3260084418.py:2: DtypeWarning: Columns (4) have mixed types. Specify dtype option on import or set low_memory=False.\n",
            "  dfl = pd.read_csv('%s/ALL_CODES.csv' % MIMIC_3_DIR)\n"
          ]
        }
      ],
      "source": [
        "# Sort the label file by the same\n",
        "dfl = pd.read_csv('%s/ALL_CODES.csv' % MIMIC_3_DIR)\n",
        "dfl = dfl.sort_values(['SUBJECT_ID', 'HADM_ID'])"
      ]
    },
    {
      "cell_type": "code",
      "execution_count": 21,
      "metadata": {
        "colab": {
          "base_uri": "https://localhost:8080/"
        },
        "id": "4Yix2g_06Yse",
        "outputId": "abbaab19-359d-4b02-e266-f748a14c5a71"
      },
      "outputs": [
        {
          "data": {
            "text/plain": [
              "(52726, 58976)"
            ]
          },
          "execution_count": 21,
          "metadata": {},
          "output_type": "execute_result"
        }
      ],
      "source": [
        "# (52726, 58976)\n",
        "len(df['HADM_ID'].unique()), len(dfl['HADM_ID'].unique())"
      ]
    },
    {
      "attachments": {},
      "cell_type": "markdown",
      "metadata": {
        "id": "hC31T4tL6Ysf"
      },
      "source": [
        "## Consolidate labels with set of discharge summaries --> `ALL_CODES_filtered.csv`"
      ]
    },
    {
      "cell_type": "markdown",
      "metadata": {
        "id": "P0chTOUE6Ysh"
      },
      "source": [
        "Looks like there were some HADM_ID's that didn't have discharge summaries, so they weren't included with our notes"
      ]
    },
    {
      "cell_type": "code",
      "execution_count": 22,
      "metadata": {
        "collapsed": true,
        "id": "rTORP8WY6Ysi"
      },
      "outputs": [],
      "source": [
        "#Let's filter out these HADM_ID's\n",
        "hadm_ids = set(df['HADM_ID'])\n",
        "with open('%s/ALL_CODES.csv' % MIMIC_3_DIR, 'r') as lf:\n",
        "    with open('%s/ALL_CODES_filtered.csv' % MIMIC_3_DIR, 'w') as of:\n",
        "        w = csv.writer(of)\n",
        "        w.writerow(['SUBJECT_ID', 'HADM_ID', 'ICD9_CODE', 'ADMITTIME', 'DISCHTIME'])\n",
        "        r = csv.reader(lf)\n",
        "        # header\n",
        "        next(r)\n",
        "        for i, row in enumerate(r):\n",
        "            hadm_id = int(row[2])\n",
        "            #print(hadm_id)\n",
        "            #break\n",
        "            if hadm_id in hadm_ids:\n",
        "                w.writerow(row[1:3] + [row[-1], '', ''])"
      ]
    },
    {
      "cell_type": "code",
      "execution_count": 23,
      "metadata": {
        "colab": {
          "base_uri": "https://localhost:8080/"
        },
        "id": "8SDg-Rlr6Ysj",
        "outputId": "f1e212b4-3c84-41f4-db61-3992cd7d7068"
      },
      "outputs": [
        {
          "name": "stderr",
          "output_type": "stream",
          "text": [
            "/tmp/ipykernel_881882/1742194954.py:1: DtypeWarning: Columns (2) have mixed types. Specify dtype option on import or set low_memory=False.\n",
            "  dfl = pd.read_csv('%s/ALL_CODES_filtered.csv' % MIMIC_3_DIR, index_col=None)\n"
          ]
        }
      ],
      "source": [
        "dfl = pd.read_csv('%s/ALL_CODES_filtered.csv' % MIMIC_3_DIR, index_col=None)"
      ]
    },
    {
      "cell_type": "code",
      "execution_count": 24,
      "metadata": {
        "colab": {
          "base_uri": "https://localhost:8080/"
        },
        "id": "E2mtdfNL6Ysj",
        "outputId": "8e37ef04-0b25-412c-9365-8a3bc5666f37"
      },
      "outputs": [
        {
          "data": {
            "text/plain": [
              "52726"
            ]
          },
          "execution_count": 24,
          "metadata": {},
          "output_type": "execute_result"
        }
      ],
      "source": [
        "# 52726\n",
        "len(dfl['HADM_ID'].unique())"
      ]
    },
    {
      "cell_type": "code",
      "execution_count": 25,
      "metadata": {
        "collapsed": true,
        "id": "P4znzYii6Ysj"
      },
      "outputs": [],
      "source": [
        "# we still need to sort it by HADM_ID\n",
        "dfl = dfl.sort_values(['SUBJECT_ID', 'HADM_ID'])\n",
        "dfl.to_csv('%s/ALL_CODES_filtered.csv' % MIMIC_3_DIR, index=False)"
      ]
    },
    {
      "attachments": {},
      "cell_type": "markdown",
      "metadata": {
        "id": "Dtmtdwi46Ysj"
      },
      "source": [
        "## Append labels to notes in a single file --> `notes_labeled.csv`"
      ]
    },
    {
      "cell_type": "code",
      "execution_count": 26,
      "metadata": {
        "collapsed": true,
        "id": "hU-eYFRx6Ysj"
      },
      "outputs": [],
      "source": [
        "# Now let's append each instance with all of its codes\n",
        "# this is pretty non-trivial so let's use this script I wrote, which requires the notes to be written to file\n",
        "sorted_file = '%s/disch_full.csv' % MIMIC_3_DIR\n",
        "outfilename = '%s/notes_labeled.csv' % MIMIC_3_DIR\n",
        "df.to_csv(sorted_file, index=False)\n"
      ]
    },
    {
      "cell_type": "code",
      "execution_count": 27,
      "metadata": {
        "colab": {
          "base_uri": "https://localhost:8080/"
        },
        "id": "9JU-KQtA6Ysk",
        "outputId": "585805d4-524c-41ad-a84c-38f70a6ff0e3"
      },
      "outputs": [
        {
          "name": "stdout",
          "output_type": "stream",
          "text": [
            "CONCATENATING\n",
            "0 done\n",
            "10000 done\n",
            "20000 done\n",
            "30000 done\n",
            "40000 done\n",
            "50000 done\n"
          ]
        }
      ],
      "source": [
        "# CONCATENATING\n",
        "# 0 done\n",
        "# couldn't find matching hadm_id. data is probably not sorted correctly\n",
        "labeled = concat_and_split.concat_data('%s/ALL_CODES_filtered.csv' % MIMIC_3_DIR, sorted_file, outfilename)"
      ]
    },
    {
      "cell_type": "code",
      "execution_count": 28,
      "metadata": {
        "colab": {
          "base_uri": "https://localhost:8080/"
        },
        "id": "75euHb-q6YtN",
        "outputId": "b6d69ec8-53b1-4238-f417-dd4345bbe13a"
      },
      "outputs": [
        {
          "name": "stdout",
          "output_type": "stream",
          "text": [
            "data/raw/notes_labeled.csv\n"
          ]
        }
      ],
      "source": [
        "# name of the file we just made\n",
        "# data/raw/notes_labeled.csv\n",
        "print(labeled)"
      ]
    },
    {
      "cell_type": "markdown",
      "metadata": {
        "id": "BSWN4fWJ6YtQ"
      },
      "source": [
        "Let's sanity check the combined data we just made. Do we have all hadm id's accounted for, and the same vocab stats?"
      ]
    },
    {
      "cell_type": "code",
      "execution_count": 29,
      "metadata": {
        "collapsed": true,
        "id": "UI77jL7C6YtS"
      },
      "outputs": [],
      "source": [
        "dfnl = pd.read_csv(labeled)\n",
        "#  Tokens and unique_words\n",
        "unique_words = set()\n",
        "num_tok = 0\n",
        "for row in dfnl.itertuples():\n",
        "    for w in row[3].split():\n",
        "        unique_words.add(w)\n",
        "        num_tok += 1"
      ]
    },
    {
      "cell_type": "code",
      "execution_count": 30,
      "metadata": {
        "colab": {
          "base_uri": "https://localhost:8080/"
        },
        "id": "-XPS_hP-6YtT",
        "outputId": "80f7c12f-5b93-4d92-915b-b109e56e0c9f"
      },
      "outputs": [
        {
          "name": "stdout",
          "output_type": "stream",
          "text": [
            "num unique_words 150854 num tokens 79801387\n"
          ]
        }
      ],
      "source": [
        "# num unique_words 150854 num tokens 79801387\n",
        "print(\"num unique_words\", len(unique_words), \"num tokens\", num_tok)"
      ]
    },
    {
      "cell_type": "code",
      "execution_count": 31,
      "metadata": {
        "colab": {
          "base_uri": "https://localhost:8080/"
        },
        "id": "IW1Rgooe6YtT",
        "outputId": "f7093ed5-9fe0-437b-bf29-1416ebe70497"
      },
      "outputs": [
        {
          "data": {
            "text/plain": [
              "52726"
            ]
          },
          "execution_count": 31,
          "metadata": {},
          "output_type": "execute_result"
        }
      ],
      "source": [
        "len(dfnl['HADM_ID'].unique())"
      ]
    },
    {
      "attachments": {},
      "cell_type": "markdown",
      "metadata": {
        "id": "_t4j85lW6YtU"
      },
      "source": [
        "## Create train/dev/test splits --> `disch_train/dev/test_split.csv`"
      ]
    },
    {
      "cell_type": "code",
      "execution_count": 4,
      "metadata": {
        "colab": {
          "base_uri": "https://localhost:8080/"
        },
        "id": "u4EhyF1h6YtU",
        "outputId": "74e91f30-b70a-442a-b46c-c6c756287f50",
        "scrolled": true
      },
      "outputs": [
        {
          "name": "stderr",
          "output_type": "stream",
          "text": [
            "[2022-12-13 09:53:36 concat_and_split.py->split_data():43]INFO: Splitting\n",
            "[2022-12-13 09:53:36 concat_and_split.py->split_data():64]INFO: reading in from files: data/raw/train_full_hadm_ids.csv\n",
            "[2022-12-13 09:53:36 concat_and_split.py->split_data():64]INFO: reading in from files: data/raw/dev_full_hadm_ids.csv\n",
            "[2022-12-13 09:53:36 concat_and_split.py->split_data():64]INFO: reading in from files: data/raw/test_full_hadm_ids.csv\n",
            "[2022-12-13 09:53:36 concat_and_split.py->split_data():76]INFO: Row 0 read. HADM_ID = 145834.\n",
            "Row: ['3', '145834', 'admission date discharge date date of birth sex m service medicine chief complaint admitted from rehabilitation for hypotension systolic blood pressure to the 70s and decreased urine output history of present illness the patient is a year old male who had been hospitalized at the hospital1 from through of after undergoing a left femoral at bypass graft and was subsequently discharged to a rehabilitation facility on he presented again to the hospital1 after being found to have a systolic blood pressure in the 70s and no urine output for hours a foley catheter placed at the rehabilitation facility yielded cc of murky brown urine there may also have been purulent discharge at the penile meatus at this time on presentation to the emergency department the patient was without subjective complaints in the emergency department he was found to have systolic blood pressure of he was given liters of intravenous fluids and transiently started on dopamine for a systolic blood pressure in the s past medical history coronary artery disease with diffuse vessel disease right dominant status post proximal left circumflex stent in with occlusion of the distal left circumflex status post right coronary artery stent on no percutaneous coronary intervention to diagonal left circumflex small proximal left anterior descending artery or small distal left anterior descending artery congestive heart failure with an ejection fraction of to type diabetes with neuropathy hypertension diverticulosis found on colonoscopy in alzheimer s dementia history of gastrointestinal bleed while the patient was taking eptifibatide cardiac risk factors with a baseline creatinine of to hypercholesterolemia history of methicillin resistant staphylococcus aureus and pseudomonas growth in wound cultures severe peripheral vascular disease status post left femoral at bypass graft on chronic nonhealing foot ulcers recent right pedal cellulitis allergies the patient has no known drug allergies medications on admission vancomycin g intravenously q 24h for a level of less than started on levofloxacin mg p o q d started on metronidazole mg p o q 8h started on heparin units subcutaneous b i d simvastatin mg p o q d lisinopril mg p o q d furosemide mg p o q d vitamin e iu p o q d atenolol mg p o q d pantoprazole mg p o q d ascorbic acid mg p o b i d nph units b i d regular insulin sliding scale bisacodyl mg p o p r as needed docusate mg p o b i d percocet mg one tablet p o q 6h as needed for pain aspirin mg p o q d metoprolol mg p o b i d social history the patient is retired and had been living at home with his wife prior to his admission to the hospital on he had been living at hospital3 for the day prior to admission he is a social drinker and has a pack year smoking history although he quit smoking years ago physical examination on presentation initial physical examination revealed temperature was degrees fahrenheit heart rate was blood pressure was following administration of liters of normal saline respiratory was and his oxygen saturation was on liters nasal cannula his heart had a regular rate and rhythm there were normal first and second heart sounds there was a systolic ejection murmur and there were no rubs or gallops his lungs were clear to auscultation bilaterally his abdomen was soft nontender and nondistended and there were hypoactive bowel sounds he had a palpable bypass graft pulse hospital3 dorsalis pedis and posterior tibialis pulses bilaterally and his surgical incision was clean dry and intact please note that the above examination was done by the vascular surgery team which was the team that was initially planning to admit the patient to the hospital pertinent laboratory data on presentation on initial laboratory evaluation the patient had a white blood cell count of hematocrit was and platelets were his pt was ptt was and inr was his serum chemistries revealed sodium was potassium was chloride was bicarbonate was blood urea nitrogen was creatinine was and blood glucose was his calcium was magnesium was and phosphate was blood cultures drawn on admission were pending but ultimately negative a urine culture taken on admission was initially pending but ultimately grew out yeast a sputum culture taken on admission was also initially pending but ultimately also grew out yeast radiology imaging his admission chest x ray demonstrated stable prominence of the right main pulmonary artery no focal areas of consolidation overall stable appearance of the chest compared with a study no radiographic evidence of congestive heart failure or pneumonia his admission electrocardiogram demonstrated a sinus rhythm nonspecific inferior lateral t wave changes low qrs voltages in the limb leads and t wave changes in v5 and v6 when compared with an electrocardiogram dated an initial abdominal ct was a limited noncontrast examination that demonstrated diffuse vascular calcifications no evidence of an abdominal aortic aneurysm or free fluid incompletely imaged coronary artery calcification a simple left renal cyst sigmoid diverticulosis and an enlarged and partially calcified prostate gland hospital course by system cardiovascular the patient was initially admitted to the vascular intensive care unit with hypotension decreased urine output and acute renal failure most likely secondary to a presumed gram negative urosepsis although there were never any positive culture data to confirm this diagnosis while boarding in the medical intensive care unit on the night of admission the patient had a sudden cardiorespiratory arrest he was resuscitated with epinephrine lidocaine and direct current cardioversion times four he was also intubate for airway protection following these measures the patient returned to a sinus rhythm with a systolic blood pressure of approximately the total time elapsed from the beginning of the arrest to the return of a pulse was approximately minutes he subsequently required double pressors to maintain his blood pressure an echocardiogram performed at the bedside demonstrated a trivial pericardial effusion and a left ventricular ejection fraction of to in the setting of tachycardia and a hyperdynamic right ventricle suggesting elevated right sided filling pressures although the definitive etiology of this arrest remained unknown the most likely trigger was a non q wave myocardial infarction as his troponin values were elevated to greater than following his arrest a repeat echocardiogram done on demonstrated mild left atrial dilation an ejection fraction of to resting regional wall motion abnormalities including inferior mid and apical left ventricular akinesis depressed right ventricular systolic function and moderate mitral regurgitation compared with the prior study of the left ventricular function was unchanged there was moderate mitral regurgitation and the right ventricular function appeared worse on the patient was loaded with amiodarone and was subsequently started on oral amiodarone the following day he was started on heparin intravenously given his elevated serum troponin to greater than this medication was continued for hours given his elevated troponins and non q wave myocardial infarction the patient was a candidate for cardiac catheterization after discussions between the medical intensive care unit team and the patient s family however the decision was made to not pursue further invasive procedures given that the patient had been made do not resuscitate do not intubate following the resuscitation mentioned above and his family no longer wished for aggressive resuscitating measures by he was off pressors and he was restarted on a beta blocker and ace inhibitor at low doses on the evening of the patient complained of substernal chest pain that was relieved by npg sl and morphine he also had st segment depressions in v2 and v3 that reverted to baseline after the resolution of his pain therefore the patient was again started on heparin although this was discontinued on when the patient ruled out for a myocardial infarction by cardiac enzymes he again had substernal chest pain on although he had no electrocardiogram changes and he again ruled out for a myocardial infarction by cardiac enzymes by hospital day four the patient began to develop evidence of congestive heart failure given his aggressive fluid resuscitation and gentle diuresis with furosemide was begun by the time of his transfer to the general medicine service on the patient was still significantly volume overloaded following his aggressive fluid resuscitation in the medical intensive care unit therefore he was continued on the program of gentle diuresis given that he was having signs and symptoms of right sided congestive heart failure he achieved adequate diuresis by the time of his discharge to rehabilitation as his oxygen saturation was greater than on liters nasal cannula infectious disease sepsis the patient was started on gentamicin and piperacillin tazobactam in addition to the levofloxacin metronidazole and vancomycin he was already taking for right lower extremity cellulitis prior to admission for empiric coverage of a presumed gram negative urosepsis and he was aggressively hydrated with intravenous fluids on his levofloxacin and metronidazole was discontinued and he was started on fluconazole given the growth of yeast on urine culture he was taken off of gentamicin on hospital day three and his fluconazole was discontinued on hospital day five as per the infectious disease service he was taken off of vancomycin on and his piperacillin tazobactam was discontinued on despite the presumption of a gram negative urosepsis precipitating this admission the patient did not have any positive blood or urine cultures aside from the growth of yeast in two urine cultures noted above he remained afebrile both before and after discontinuation of his antibiotics and he was found to be clostridium difficile negative on pulmonary as noted above the patient was intubated and he was extubated on he subsequently developed wheezing and mild hypoxia most likely secondary to cardiac asthma and fluid overload in the setting of his aggressive fluid resuscitation he was gently diuresed toward the end of his hospitalization and by the time of his he was maintaining an oxygen saturation of greater than on liters nasal cannula intermittent ipratropium nebulizers and chest physical therapy for clearance of his respiratory secretions renal the patient presented with acute renal failure and prerenal azotemia that rapidly resolved following fluid resuscitation by the time of discharge his serum creatinine was stable and at his preadmission baseline nutrition the patient was found to be profoundly malnourished with a serum albumin of on admission once he was extubated and taking orals he performed poorly on a modified barium swallowing study and was started on a thin liquid ground solid diet with whole medication tablets small bites and sips upright posture with meals and aspiration precautions he was also given promod shakes with and between meals for nutritional supplementation of his heart healthy diabetic diet vascular the patient s operative incisions and foot ulcers continued to heal throughout this admission he was started on an multivitamin vitamin c and zinc for improved wound healing hematology the patient was transfused one unit of packed red blood cells on to maintain a hematocrit of greater than given his history of severe coronary artery disease his hematocrit subsequently remained stable condition at discharge condition on discharge was stable discharge status first name4 namepattern1 last name namepattern1 rehabilitation facility discharge diagnoses cardiorespiratory arrest non q wave myocardial infarction acute renal failure coronary artery disease with diffuse vessel disease right dominant status post proximal left circumflex stent in with occlusion of distal left circumflex status post right coronary artery stent on no percutaneous coronary intervention to distal left circumflex small proximal left anterior descending artery small distal left anterior descending artery congestive heart failure with an ejection fraction of to type diabetes with neuropathy hypertension diverticulosis found on colonoscopy in alzheimer s dementia history of gastrointestinal bleed while the patient was taking eptifibatide cardiac risk factors with a baseline creatinine of to history of methicillin resistant staphylococcus aureus and pseudomonas growth in wound cultures severe peripheral vascular disease status post left femoral at bypass graft on chronic nonhealing foot ulcers medications on discharge amiodarone mg p o b i d through then mg p o q d times one week then mg p o q d metoprolol mg p o b i d captopril mg p o t i d aspirin mg p o q d pantoprazole mg p o q d heparin units subcutaneously b i d multivitamin one tablet p o q d zinc sulfate mg p o q d vitamin c mg p o q d ipratropium nebulizers q 6h as needed for wheezing acetaminophen mg to mg p o q 6h as needed for pain miconazole powder to groin b i d santyl lotion to heels b i d regular insulin sliding scale code status do not resuscitate do not intubate note if applicable an addendum to this discharge summary will be dictated to include follow up appointments as well as any changes to the medication list noted above first name11 name pattern1 last name namepattern4 m d md number dictated by name8 md medquist36 d t job job number', '038.9;785.59;584.9;427.5;410.71;428.0;682.6;425.4;263.9;96.04;99.62;89.64;96.72;38.93;96.6']\n"
          ]
        },
        {
          "name": "stdout",
          "output_type": "stream",
          "text": [
            "data/raw/notes_labeled.csv data/raw/disch\n",
            "train split name:  data/raw/disch_train_split.csv\n",
            "labeled name:  data/raw/notes_labeled.csv\n"
          ]
        },
        {
          "name": "stderr",
          "output_type": "stream",
          "text": [
            "[2022-12-13 09:53:37 concat_and_split.py->split_data():76]INFO: Row 10000 read. HADM_ID = 100184.\n",
            "Row: ['9566', '100184', 'admission date discharge date date of birth sex f service cardiothoracic allergies morphine heparin agents attending first name3 lf chief complaint mrs known lastname is s p cabg and now has increasing sob doe she underwent cardiac catheterization which showed patent lima lad totally occluded svg om and ectatic svg pda and an aortic valve area of 59cm2 she was admitted to hospital hospital for diuresis due to an elevated wedge pressure and then was transferred to hospital1 for surgery major surgical or invasive procedure s p redo sternotomy cabgx1 svg pda avr 21mm pericardial history of present illness mrs known lastname is s p cabg and now has increasing sob doe she underwent cardiac catheterization which showed patent lima lad totally occluded svg om and ectatic svg pda and an aortic valve area of 59cm2 she was admitted to hospital hospital for diuresis due to an elevated wedge pressure and then was transferred to hospital1 for surgery past medical history cad s p cabg aortic stenosis h o breast ca s p lumpectomy and radiation therapy to r breast carotid stenosis bilateral lesions dm type elevated cholesterol venous stasis physical exam discharge physical exam t p63 atrial fibrillation bp rr ra spo2 on ra weight 4kg neurological exam she is awake alert oriented x3 non focal cardiovascular exam regular rate and rhythm without rub or murmur respiratory breath sounds are clear without wheezes or rales gi positive bowel sounds soft obese non tender non distended no nausea extremities warm and well perfused bilateral lower extremeties with mild erythema chronic venous stasis changes with plaques no warmth or tenderness sternal incision is clean and dry there is an area at the at the proximal portion of the incision with areas of scabbed skin tears there is no erythema or drainage the veing harvest site at the knee is clean dry and intact pertinent results 58am blood wbc rbc hgb hct mcv mch mchc rdw plt ct 58am blood plt ct 58am blood pt ptt inr pt 58am blood glucose urean creat na k cl hco3 angap brief hospital course mrs known lastname was admitted to hospital1 on for pre operative evaluation she was started on iv heparin for her coronary disease she was taken to the operating room on and was induced with general anesthesia it was then noted that she had purulent drainage from her lower extremeties in the area of the venous stasis the surgery was canceled and she was transferred to the icu to allow to awaken and she was started on antibiotics a vascular surgery and infectious disease consult was obtained and patient underwent ultrasound studies of her le which did not show any significant reflux and no arterial occlusion with the antibiotics the erythema and drainage improved and with continued lasix the edema improved and patient was taken to the operating room on for a redo sternotomy cabgx1 svg pda and avr with a mm pericardial valve the patient was transferred to the icu in stable condition she was weaned and extubated from mechanical ventilation on without difficulty she had episodes of nausea and was started on reglan and an antiemetic with some relief her chest tubes and pacing wires were removed without incident she was started on lo dose lopressor which she tolerated well and had escalating doses of lasix to achieve adequate diuresis she was transferred from the icu to the regular floor on pod in the early morning of pod she developed atrial fibrillation which was rate controlled she had some thrombocytopenia postoperatively and a heparin antibody test was found to be positive a hematology consult was obtained and it was recommended that she be started on argatroban for anticoagulation this was started as well as coumadin and the argatroban was turned off when her inr became therapeutic she underwent an ultrasound of her r arm due to swelling which did not show any venous clot or obstruction during her postoperative course she continued to be nauseaus a kub showed a lot of stool and she had an aggressive bowel regime during this time her po intake was poor a gi consult was obtained and it was recommended to continue the current therapy and by pod the nausea was improving on pod it was noted that she was having some periods of bradycardia with the atrial fibrillation and it was decided to discontinue the lopressor after which there were no further pauses medications on admission aspirin 325mg qd lisinopril 5mg qd insulin units qam 15units qpm lopressor 50mg qam 25mg qpm nitropaste lasix 80mg iv qd discharge medications potassium chloride meq capsule sustained release sig two capsule sustained release po q12h every hours docusate sodium mg capsule sig one capsule po bid times a day aspirin mg tablet delayed release e c sig one tablet delayed release e c po daily daily acetaminophen mg tablet sig two tablet po q4h every hours as needed magnesium hydroxide mg ml suspension sig thirty ml po hs at bedtime as needed for constipation bisacodyl mg suppository sig one suppository rectal daily daily as needed for constipation rosuvastatin calcium mg tablet sig one tablet po daily daily miconazole nitrate powder sig one appl topical tid times a day senna mg tablet sig one tablet po bid times a day as needed lactulose g ml syrup sig thirty ml po q8h every hours as needed hydrocodone acetaminophen mg tablet sig tablets po q4 6h every to hours as needed for pain pantoprazole sodium mg tablet delayed release e c sig one tablet delayed release e c po q24h every hours furosemide mg tablet sig one tablet po bid times a day warfarin sodium mg tablet sig one tablet po daily daily reglan mg tablet sig one tablet po four times a day as needed for nausea insulin unit ml suspension sig five units subcutaneous twice a day insulin regular human unit ml syringe sig as directed subcutaneous four times a day bs 2units sc bs 3units sc bs 4units sc bs 5units sc bs 6units sc bs 7units sv discharge disposition extended care facility location un at location un discharge diagnosis as cad h o chf dm pvd s p breast lumpectomy d t ca s p radiation to r breast carotid stenosis bilaterally s p cabg s p redo sternotomy avr redo cabg bilateral le venous stasis bilateral le cellulitis post op atrial fibrillation post op urinary retention post op gastroparesis ileus constipation heparin antibodies discharge condition good discharge instructions you may take a shower and wash your incisions with mild soap and water do not swim or take a bath for month do not drive for month do not lift anything heavier than pounds for month do not apply lotions creams ointments or powders to your incisions followup instructions follow up with dr last name stitle in weeks follow up with doctor last name in weeks follow up with dr last name stitle in weeks completed by', '424.1;414.02;997.1;427.31;287.4;E934.2;V64.1;682.6;454.1;997.5;788.20;428.0;428.20;997.3;518.0;997.4;560.1;536.3;564.00;414.01;433.30;440.20;250.00;272.0;V70.7;E878.4;V10.3;V58.61;412;35.21;36.11;39.61;88.72;34.04;38.22;96.04;96.71;99.04;88.72']\n",
            "[2022-12-13 09:53:37 concat_and_split.py->split_data():76]INFO: Row 20000 read. HADM_ID = 168572.\n",
            "Row: ['19148', '168572', 'admission date discharge date date of birth sex m service history of the present illness on the patient was admitted to hospital1 for the same day arrival for an open left chest wound with a left thoracotomy and omental flap he has a history of an empyema and bronchocutaneous fistula past medical history history is significant for lung cancer status post resection of the left upper lobe with the findings of multiple aspergillioma past surgical history history revealed lung cancer and resection of the upper lobe medications at home trazodone multivitamins kefzol allergies the patient is allergic to ampicillin and dilaudid hospital course the patient was taken to the operating room on where plastic surgery and cardiothoracic surgery by dr last name stitle of thoracic surgery and drs first name stitle and name5 ptitle of plastic surgery the patient was transferred to the intensive care unit postoperatively intubated with his left lung down on drips and propofol sedation and paralyzed the patient did well in the intensive care unit the patient was transferred out of the intensive care unit on in the evening on postoperative day the patient was doing well we were awaiting return of bowel function we discontinued the pca and gave him p o pain medications we went off his sputum for culture because the patient was complaining of some cough on postoperative day on gram stain showed gram negative rods however he was already on ciprofloxacin and kefzol for increased coverage his wound was not red and not infected nor was the patient febrile the patient was stable the chest x ray which was taken showed some fluid had reaccummulated on the followup chest x ray on the patient was breathing well and comfortable he had a bowel movement and diet was tolerated where previously it had been returned to clear as abdominal distention was noted the previous day on hospital course by system neurological the pain is controlled cardiovascular the patient is hemodynamically stable with no cardiovascular issues pulmonary the patient is encouraged for pulmonary toilette and deep breathing and ambulation gastrointestinal no issues the patient is taking a regular diet renal no issues infectious disease the patient is taking cipro and kefzol surgical wound is clean and nonischemic well approximated tubes and drains the patient has had his foley catheter removed and prior to discharge he will most likely have his drain discontinued first name11 name pattern1 last name namepattern4 m d md number dictated by name8 md medquist36 d t job job number admission date discharge date date of birth sex m service addendum please correct the mistake on summary number serial number which states that in the second paragraph the patient will have a drain to chest cavity in the form of a picc line it is a pigtail catheter with a jp bulb at the end first name11 name pattern1 last name namepattern4 m d md number dictated by name8 md medquist36 d t job job number admission date discharge date date of birth sex m service addendum the patient on was doing well was hungry for real food the diet was advanced and the patient was given laxatives to help move his bowels abdominal distension was noted and diet was reversed back on the 17th to clear liquids a kub which did not show any evidence of small bowel obstruction whatsoever on the patient was advanced again to full diet after consuming over cc s of regular diet the previous day in the form of clears which the patient tolerated despite a slightly distended abdomen the patient was having bowel movement and passing flatus ciprofloxacin was discontinued and the patient was switched from kefzol to keflex and the patient is being discharged home on on keflex and will be followed by dr first name stitle the patient will have a drain to the chest cavity in the form of pic line with a jp bulb the end and will receive jp teachings specifically addressed to not changing the jp bulb without first clamping of the tube the patient will follow up with dr first name8 namepattern2 last name namepattern1 next week as well as dr last name stitle for which he will make an appointment discharge medications keflex mg p o q i d percocet one to two tabs q to p r n colace mg p o b i d the patient will resume his trazodone home dose will otherwise do well after discharge the patient will not go home on ciprofloxacin as previously dictated dr last name stitle first name3 lf dictated by dictator info medquist36 d t job job number name known lastname known firstname unit no numeric identifier admission date discharge date date of birth sex m service known firstname known lastname is being discharged home on after agreement with the plastics team his jp had some cultures fluid and some fluid sent for analysis last night which showed that the fluid in the jp was not a leak and did not show any evidence of infection upon analysis either the patient is being discharged with a prescription for keflex while the drain is in place and will followup with dr first name stitle next week for re evaluation in discharge the patient is in good condition and is being discharged with percocet for pain control as well as a stool softener colace dr last name stitle first name3 lf dictated by name8 md medquist36 d t job job number', '510.0;V10.11;698.9;34.73;86.74;96.71']\n",
            "[2022-12-13 09:53:37 concat_and_split.py->split_data():76]INFO: Row 30000 read. HADM_ID = 159595.\n",
            "Row: ['28671', '159595', 'admission date discharge date date of birth sex m service medicine allergies patient recorded as having no known allergies to drugs attending first name3 lf chief complaint fever cough major surgical or invasive procedure central venous line placement r internal jugular vein history of present illness received inh x months and recent bronch during admission for pna date range at hospital1 on last day of day course of augmentin who presents with r sided chest pain productive cough temp x day in the ed initial vs were t bp hr satting on 2l nc he was initially stable although ill appearing but then spiked fever to around 4am so abx vanc levo zosyn were started he then became hypotensive to 70s systolic received 3l ns with bp up to high 80s systolic which is near his baseline and he was mentating well pt was very reluctant to have a central line so got fluid boluses through pivs vs at 6am 2l then prior to transfer at 730am sbp was back down to 70s so ed placing central line to start levophed ros the patient denies any chills weight change nausea vomiting abdominal pain diarrhea constipation melena hematochezia chest pain orthopnea pnd lower extremity oedema urinary frequency urgency dysuria lightheadedness gait unsteadiness focal weakness vision changes headache rash or skin changes he does report a low grade temperature around prior to admission and worsening cough for the last day non productive in nature he does have occasional right sided chest pain related to his cough though not pleuritic past medical history squamous cell lung cancer t3 n2 s p l pneumonectomy after chemo and xrt bronchoscopy on revealed erythema and abnormal appearance in the l bronchial stump suggesting recurrent disease recent pet shows some fdg avidity along the pneumonectomy suture line with a comment about a foci of avidity in the ap window area there is also circumferential uptake around the pneumonectomy cavity there is also a note of poor anatomic delineation without a contrast ct there was also fdg avidity between the right atrial appendage and the left ventricular outflow track without anatomic correlate no definite bony lesions no subdiaphragmatic lesions dr last name stitle is his oncologist and last note indicates they are considering radiation therapy a flutter s p ablation in not anticoagulated bleeding problems while on coumadin for pe in the past pe multiple pnas most recently in ppd treated with inh x8 months completed in copd fev1 of liters or of predicted an fvc of liters or of predicted and an fev1 fvc ratio of social history patient is divorced and lives with his two daughters only rare alcohol use and prior tobacco use roughly pack years he quit smoking approximately a year ago just prior to be diagnosed with lung cancer he was born in country and came to the u s roughly forty years ago family history father died of laryngeal cancer does not know what his mother died from physical exam on presentation vitals t bp hr rr o2sat gen ill appaering nad heent eomi perrl sclera anicteric no epistaxis or rhinorrhea dry mm op clear neck no jvd carotid pulses brisk no bruits no cervical lymphadenopathy trachea midline lij in place cor rrr no m g r normal s1 s2 radial pulses pulm lungs diffuse wheezing referred breath sounds on the left no rales or rhonchi abd soft nt nd bs no hsm no masses ext no c c e no palpable cords neuro alert oriented to person place and time cn ii xii grossly intact moves all extremities strength in upper and lower extremities skin no jaundice cyanosis or gross dermatitis no ecchymoses pertinent results imaging ct chest brief hospital course micu course 58m with squamous cell lung ca h o recurrent post obstructive pna also h o pe who presented to the ed with fever cough and hypotension he was treated with vancomycin levofloxacin and cefepime sepsis patient met sirs criteria with fever and hypotension in ed likely source was pneumonia based on symptoms of cough r sided chest pain patient had completed course of augmentin day prior to admission after admission for pna at which time he was initially treated with vanc zosyn during that admission afb titers were normal pcp smear was negative sputum cultures were negative symptoms worsened the day prior to admission after completing antibiotic course on admission his cxr unremarkable cta showed no focal infiltrate no pe but did show ground glass opacities patient initially required pressors but was quickly weaned off when he got to the icu he was treated with vancomycin levofloxacin and cefepime for broad coverage dfa was negative blood cultures were negative and urine culture was negative he remained afebrile and normotensive and was transferred to the floor he was transitioned to po levofloxacin we considered doing a thoracentesis to evaluate for empyema but after speaking with the patient s throacic surgeon who reviewed the ct scan it felt that empyema was highly unlikely the patient remained afebrile for hours and was d c d home and asked to follow up with the infectious disease clinic a flutter s p ablation in sinus rhythm on admission diltizem flecainide held on admission hypotension but were restarted after patient was weaned off pressors patient was monitored on telemetry and remained in normal sinus rhythm for the remainder of his hospitalization squamous cell lung cancer status post l pneumonectomy now with evidence of local recurrence as confirmed by biopsy during admission at location un primary oncologist is dr last name stitle was is aware of admission his oncologist thoracic surgeon and primary team felt that the patient should recover from his acute illness and his treatment will be decided upon as an outpatient copd continued outpatient medications including albuterol advair and spiriva albuterol ipratropium nebs as needed medications on admission albuterol inhaled four times a day as needed diltiazem hcl mg capsule sust release daily flecainide mg tablet hospital1 fluticasone salmeterol mcg mcg dose hospital1 gabapentin mg hospital1 twice a day omeprazole mg daily oxycodone mg q4h prn pain tiotropium bromide spiriva with handihaler mcg capsule inh daily aspirin mg daily docusate sodium 100mg hospital1 discharge medications fluticasone salmeterol mcg dose disk with device sig one disk with device inhalation hospital1 times a day albuterol sulfate mg ml solution for nebulization sig one inhalation q4h every hours as needed gabapentin mg capsule sig two capsule po bid times a day oxycodone mg tablet sig one tablet po q4h every hours as needed for apin docusate sodium mg capsule sig one capsule po bid times a day aspirin mg tablet sig one tablet po daily daily omeprazole mg capsule delayed release e c sig one capsule delayed release e c po daily daily diltiazem hcl mg capsule sustained release sig one capsule sustained release po daily daily flecainide mg tablet sig two tablet po q12h every hours benzonatate mg capsule sig one capsule po tid times a day guaifenesin mg ml syrup sig mls po q6h every hours as needed for cough senna mg tablet sig tablets po bid times a day as needed for constipation levofloxacin mg tablet sig one tablet po q24h every hours for days disp tablet s refills discharge disposition home discharge diagnosis sepsis lung cancer atrial fibrillation discharge condition good discharge instructions you were admitted to the hospital with fever and low blood pressure you did not appear to have pneumonia although you have had recurrent pneumonias lately you should finish a course of levofloxacin we have not changed any of your medications please call your doctor if you have fevers chills light headedness passing out episodes or any other concerning symptoms you should follow up with dr last name stitle in clinic in the next weeks and you should be seen in the infectious hospital clinic in the next weeks for evaluation of recurrent pneumonias followup instructions please call dr name ni office to set up a follow up appointment next week please call the infectious disease clinic at telephone fax and ask for the urgent care clinic they will help you set up an appointment for early this week to discuss your recurrent pneumonias first name8 namepattern2 name8 md md md number', '038.9;162.2;196.9;427.32;995.91;V12.51;795.5;V46.2;V15.82;458.9;496;38.93']\n",
            "[2022-12-13 09:53:38 concat_and_split.py->split_data():76]INFO: Row 40000 read. HADM_ID = 188265.\n",
            "Row: ['58610', '188265', 'admission date discharge date date of birth sex f service medicine allergies provera attending first name3 lf chief complaint shortness of breath orthopnea major surgical or invasive procedure pericardial window inferior vena cava filter history of present illness patient complaining of sob and dry cough x days especially with any type of exertion patient is currently getting chemotherapy for peritoneal cancer no fevers or chills no uri sx unchanged nausea and vomiting positive constipation no diarrhea patient unable to lay flat patient reports that this feels similar to a few years ago when she had pleural effusions requiring a tap in the ed initial vs were 4l nc her exam was notable for decreased breath sounds on the right a chest x ray confirmed the presence of a large pleural effusion and there was a question of an infiltrate and so the patient was given vanc cefepime to cover hap she was noted to be tachycardic and so was given 5l ns without improvment in her tachycardia she was also given morphine 2mg and zofran 4mg for pain there was also confern for a pericardial effusion based on her cxr a bedside ultrasound revealed what appeared to be a moderate pericardial effusion without evidence of rv collapse patient was transferred to the micu for further care which included a pericardial drainage upon transfer to the omed floor she is breathing more comfortably with the pericardial drain removed she is still tachypneic still tachycardic past medical history past oncologic history per most recent clinic note with updates ms known lastname presented with dyspnea and a pleural effusion in pleural fluid cytology was consistent with poorly differentiated adenocarcinoma ct showed a moderate amount of intra abdominal ascites and enhancing nodularity within the peritoneal omental fat consistent with carcinomatosis omental caking ca was elevated at on she underwent a thoracoscopy with pleurodesis biopsy of the left parietal pleura and right percutaneous drainage of pleural effusion there was bulky metastatic disease within the pleural space she started carboplatin and paclitaxel on after cycles she underwent surgical debulking and tah bso by dr last name stitle on she was optimally debulked and had minimal residual disease she received additional cycles of carboplatin taxol post operatively last treatment on her ca started trending up in ct torso in was notable for a right sided pleural effusion which was malignant based on cytology from thoracentesis on she started carboplatin taxol again on she had recurrent pleural effusion and underwent thoracentesis on and again in she underwent talc pleurodesis on ct on showed new mediastinal and retroperitoneal lymphadenopathy as well as markedly increased soft tissue thickening along the right pleura extending into the anterior mediastinum she started doxil on she stopped after cycles because her ca rose and her ct was unchanged she was given a chemotherapy break however she developed rapidly enlarging lymphadenopathy in her neck in she started navelbine 30mg m2 on she received d1 and d8 doses but was neutropenic on d15 navelbine was dose reduced to 25mg m2 during her second cycle but she again became neutropenic and the d15 dose was held her regimen was changed to navelbine 30mg m2 on d1 and d15 of a day cycle and each dose is being followed with neulasta her ca decreased from to after cycles but then rose to in early vaginal biopsy on performed due to vaginal bleeding was notable for metastatic poorly differentiated carcinoma patient started gemcitabine c1 d1 on she completed cycles of gemcitabine until having her dose held on due to concern of either progression of disease or gemcitabine pulmonary toxicity causing on patient began external beam radiotherapy to a dose of cgy in fractions other past medical and surgical history htn h o postmenopausal bleeding w uterine fibroids tah bso with optimal debulking in pleurodesis x2 right knee surgery hysteroscopic myomectomy in ventral hernia repair status post exploratory laparotomy in placement of a port in poorly differentiated adenocarcinoma peritoneal adenocarcinoma social history denies past or present use of tobacco she denies use of alcohol she lives at home with her husband and works jobs both in the medical field has children including a daughter by the name of name ni as well as a sister in name ni family history sister with breast cancer physical exam vs t hr r22 ra nc 2l gen aox3 nad slightly lethargic blood glucose given juice and improved heent perrla mmm no lad no jvd neck supple cards rrr s1 s2 normal chest decreased breath sounds bilaterally no crackles or wheezes abd soft nt bs no rebound guarding epigastric ruq nontender mass extremities wwp no edema dps pts no evidence of hematoma skin no rashes or bruising pertinent results admission labs 55pm pt ptt inr pt 55pm plt count 55pm neuts lymphs monos eos basos 55pm wbc rbc hgb hct mcv mch mchc rdw 55pm ctropnt 55pm estgfr using this 55pm glucose urea n creat sodium potassium chloride total co2 anion gap 41pm lactate 41pm comments green top 49pm sodium potassium chloride 50pm urine hyaline 50pm urine rbc wbc bacteria mod yeast none epi 50pm urine blood neg nitrite neg protein glucose neg ketone bilirubin sm urobilngn ph leuk neg 50pm urine color amber appear clear sp last name un 47pm hgb calchct 50pm urine color amber appear clear sp last name un 47pm hgb calchct 47pm glucose lactate na k cl 47pm type art temp po2 pco2 ph total co2 base xs intubated not intuba comments o2 deliver discharge labs 30am blood wbc rbc hgb hct mcv mch mchc rdw plt ct 59am blood wbc rbc hgb hct mcv mch mchc rdw plt ct 57pm blood wbc rbc hgb hct mcv mch mchc rdw plt ct 55am blood wbc rbc hgb hct mcv mch mchc rdw plt ct 30am blood hypochr anisocy poiklo occasional macrocy normal microcy polychr normal ovalocy occasional 57pm blood hypochr anisocy poiklo occasional macrocy microcy polychr target occasional burr occasional tear dr last name stitle 55am blood hypochr anisocy poiklo normal macrocy microcy normal polychr occasional 30am blood plt smr normal plt ct 15am blood ptt 59am blood plt ct 59pm blood ptt 57pm blood plt ct 30am blood glucose urean creat na k cl hco3 angap 55am blood glucose urean creat na k cl hco3 angap 01am blood glucose urean creat na k cl hco3 angap 28am blood glucose urean creat na k cl hco3 angap 35am blood alt ast ld ldh alkphos totbili 31pm blood ck cpk 08am blood alt ast ld ldh alkphos totbili 35am blood ck mb ctropnt 31pm blood ck mb ctropnt 55pm blood ctropnt 30am blood calcium phos mg 55am blood calcium phos mg 01am blood albumin calcium phos mg 28am blood calcium phos mg 35am blood caltibc ferritn trf 18pm blood ca125 30am blood vanco 28am blood vanco 28am blood edta ho hold 08am blood greenhd hold 07am blood type mix po2 pco2 ph caltco2 base xs intubat not intuba 53pm blood type art po2 pco2 ph caltco2 base xs intubat not intuba 47pm blood type art temp po2 pco2 ph caltco2 base xs intubat not intuba comment o2 deliver 07am blood lactate 53pm blood glucose lactate k 47pm blood glucose lactate na k cl 53pm blood o2 sat 47pm blood hgb calchct microbiology staph coagulase negative grew in urine culture and a blood culture reports other body fluid other body fluid analysis wbc hct fl polys lymphs monos mesothe other pericardial fluid spun hematocrit performed clusters of large atypical cells some in clusters highly suspicious for malignancy refer to cytology for confirmation reviewed by last name namepattern4 md other body fluid chemistry totprot glucose ld ldh amylase albumin pericardial fluid ct of the abdomen and pelvis history year old female with history of primary peritoneal carcinoma with metastasis to the pleura s p pleurodesis pericardium and retroperitoneum admitted with shortness of breath and positive pulmonary emboli progression of carcinoma comparisons cta of the chest dated ct torso dated technique ct of the abdomen and pelvis performed from the lung bases to the pelvis after administration of oral and intravenous contrast patient received cc of optiray intravenously without complication additionally sagittal and coronal reformats were obtained for review findings lung bases stable appearance of the partially included right hemithorax with air bronchograms and consolidative right lower lung pleural thickening and soft tissue enhancement of the pleural space is unchanged hyperdense pleura appears stable and likely the sequelae of pleurodesis partially loculated left effusion with pleural enhancement and focal nodularity is unchanged in the interim loculated pericardial collections are stable the largest loculation appears to significantly indent the right atrium coronary calcifications pulmonary arteries are partially included and redemonstrate nonocclusive left lower lobe clot enhancing nodes in the anterolateral chest wall ct of the abdomen following contrast liver enhances normally without focal masses gallbladder is unremarkable spleen is within normal limits slightly atrophic pancreas with mild prominence of the proximal pancreatic duct not significantly changed adrenal glands are unremarkable bilaterally kidneys enhance normally without hydronephrosis or focal lesion abdominal aorta is normal in caliber and no opacification numerous soft tissue masses in the retroperitoneum likely representing lymphadenopathy versus primary carcinoma deposits are unchanged stomach slightly distended containing oral contrast material and ingested debris interval progression of fluid filled small bowel distention predominantly in the mid abdomen and pelvis small bowel loops measure up to 3cm apparent fecalization of the segmental small bowel loop in the midline of the pelvis the terminal ileum appears relatively decompressed this suggests a transition point possibly in the ileum the colon is nondilated containing abundant stool stable scattered soft tissue lesions throughout the small bowel mesentery predominantly in the lower abdomen and pelvis likely representing carcinoma deposits unchanged worsening diffuse anasarca and intraabdominal and pelvic ascites no evidence of perforation pneumatosis or abnormal fluid collections abdominal aorta is normal in caliber and opacification proximal branch vessels are patent ct pelvis under filled urinary bladder is unremarkable uterus and adnexa stable distended rectal vault containing air and stool bone windows stable minimal degenerative changes with anterior osteophyte formation of the mid thoracic spine no destructive osseous lesions impression progressive dilatation of multiple fluid filled small bowel loops predominantly in the mid and lower abdomen and pelvis relative decompression of the terminal ileum this raises question of a transition point in the ileum and partial small bowel obstruction no pneumatosis extraluminal air or abnormal fluid collections worsening intraabdominal and pelvis ascites stable known right pleural pericardial metastasis and left pleural pericardial loculated effusions stable soft tissue deposits within the small bowel mesentery and retroperitoneum worsening anasarca the study and the report were reviewed by the staff radiologist cta chest w w o c recons non clip clip number radiology reason please eval for pe field of view contrast optiray amt hospital medical condition year old woman with peritoneal ca who presents with pericardial effusion s p drainage repear echo shows rv dilation concerning for possible pe that is new since her last echo on and prior cta pt with sob hypoxia and tachycardia reason for this examination please eval for pe contraindications for iv contrast none wet read enya tue pm multifocal small lul and lll segmental pulmonary emboli no ascciated parenchymal abnormality in the left lung to suggest pulmonary infarct an isoldate tiny pulmonary embolus in the rll lobar branch image non occlusive mostly consolidated right lung with air bronchogram and moderate volume loss grossly unchanged prior to compatible with prior tumor infiltration and pleurodesis unchanged small left sided pleural effusion small to moderate pericardial effusion slightly increased from prior no definite ct evidence of rv straining final report ct pulmonary angiogram indication peritoneal carcinoma post drainage of pericardial effusion with concern for pulmonary embolus on echocardiography shortness of breath hypoxia tachycardia technique cta chest performed prior to and after iv contrast comparison study cta chest findings evaluation of pulmonary arteries show tiny subsegmental pulmonary emboli identified in the left upper and left lower lobe new since prior imaging there is evidence for prevascular and axillary adenopathy the maximum in the prevascular space measuring x cm left axillary lymph node measures up to x cm these are stable when compared with prior ct there is a pericardial effusion unchanged in appearance since prior radiograph and slightly enlarged compared to ct extensive consolidated lung found in the posterior segment of the right upper lobe the entire right lower lobe again consolidated unchanged since prior examination there is evidence of previous right sided thoracotomy with volume loss and pleurodesis at the right lung base stable since there are small bilateral pleural effusions greater on the left side again stable when compared with prior examination no osseous abnormalities impression tiny subsegmental left upper and left lower lobe pulmonary emboli extensive consolidation within the right hemithorax stable when compared with prior imaging persistent mediastinal and axillary adenopathy slight increase in pericardial fluid the study and the report were reviewed by the staff radiologist dr first name8 namepattern2 last name namepattern1 dr first name11 name pattern1 initial namepattern1 last name namepattern4 approved doctor first name am echo left ventricular wall thickness cavity size and global systolic function are normal lvef the right ventricular cavity is mildly dilated with moderate global free wall hypokinesis there is abnormal septal motion position the aortic valve leaflets are mildly thickened but aortic stenosis is not present the mitral valve appears structurally normal with trivial mitral regurgitation there is a very small apical pericardial effusion without evidence of hemodynamic compromise compared with the prior study images reviewed of the right ventricle is now larger and more hypokinetic is there a history to suggest a primary pulmonary process e g pulmonary embolism bronchospasm pneumonia etc pericardial fluid cell block scantly cellular preparation with rare atypical cells seen only on levels s7 s10 see note note most of the atypical cells show nuclear staining with wt and cytoplasmic staining with cytokeratin ae1 cam5 the cells are nonreactive for calretinin the stains last name un and b72 are non contributory due to insufficient cellular material this immunoprofile is non specific see also corresponding cytology report c10 numeric identifier chest portable ap clip clip number radiology reason r o pna v effusion hospital medical condition 57f h o peritoneal ca p w gradually worsening sob and dry cough x5d reason for this examination r o pna v effusion final report indication year old female with history of peritoneal cancer now presents with gradually worsening shortness of breath and dry cough for five days comparison chest radiograph and ct torso ap upright chest radiograph there is increased opacification of the right hemithorax compared to the prior study with faint air bronchograms in the mid and lower right lung there is an interval increase in the layering moderate right pleural effusion changes reflect progression of the patient s known metastatic pulmonary and pleural disease a superimposed infection cannot be excluded the left lung is unremarkable there has been interval increase in small to moderate left pleural effusion no pneumothorax is detected the enlargement of the heart is stable the hilar contours are unremarkable impression interval increase in the pleural effusions bilaterally increasing pulmonary opacities in the right mid and lower lung suggest progression of the patient s known pleural and parenchymal metastatic disease a superimposed infection cannot be excluded the study and the report were reviewed by the staff radiologist ivc placement history peritoneal cancer with pulmonary embolus and slow gi bleed for ivc filter placement physicians procedure was performed by dr first name8 namepattern2 name stitle dr first name stitle name stitle and dr first name4 namepattern1 last name namepattern1 dr last name stitle the attending radiologist was present and supervised throughout the entire procedure comparison comparison is made with a ct abdomen and pelvis of anesthesia buffered lidocaine for local anesthesia procedure and findings the risks benefits and alternatives to the procedure were explained to the patient and written informed consent was obtained the patient was brought to the angiography suite and placed supine on the table her right groin was prepped and draped in the usual sterile fashion a preprocedure timeout and huddle were performed per standard hospital1 protocol under name ni the right common femoral vein was punctured with a gauge needle through which initials namepattern4 last name namepattern4 wire was advanced into the inferior vena cava needle was exchanged for an omni flush catheter which was advanced to the confluence of the iliac veins venogram was performed and demonstrated a single ivc with no filling defects in the infrarenal portion the origin of the renal veins was noted to be at the level of the upper endplate of l2 based on these diagnostic findings a decision was made to place an infrarenal optease ivc filter the last name un wire was placed through the catheter and the catheter removed over the wire an optease vena cava filter sheath was placed the wire and inner dilator were removed and the filter was placed through the sheath and successfully deployed in the infrarenal position a fluoroscopic spot image was obtained and saved digitally the sheath was removed and hemostasis achieved with digital compression for minutes sterile dressings were applied the patient tolerated the procedure well with no immediate complications impression ivc gram with no ivc duplication and no filling defects noted successful infrarenal placement of an optease ivc filter via the right common femoral venous access approach this filter is retrievable for a period of two weeks if clinically indicated or may stay as a permanent filter the study and the report were reviewed by the staff radiologist cxr impressions pleural effusions remain small consolidation of right lung persists no pericardial air kub impression no evidence of obstruction or ileus the study and the report were reviewed by the staff radiologist brief hospital course year old f with poorly differentiated primary peritoneal adenocarcimona who is s p multiple treatment modalities and who presented on with sob and cough for days that subsequently improved with pericardiocentesis her hospital course which now spans nearly one month has had multiple complications including bilateral pes now s p ivc stent afib with rvr gastrointestinal bleed slowly resolving partial bowel obstruction acute kidney injury and complicated uti pericardial effusion large effusion seen on echo which was drained 650cc bloody fluid shortness of breath vastly improved following the dranaige in the icu and she was transferred to the omed floor on as a result gram stain cx of the fluid showed polymorphonuclear leukocytes and the fluid culture was negative for acid fast bacteria the fluid had many white blood cells and atypical cells indicating mailignant origin ct scan of chest the small size of the right atrium if not due to hypovolemia may indicate constrictive physiology repeat echo on showed no significant reaccumulation of pericardial fluid however showed right heart strain bilateral pes because of the evidence of right heart strain on echo cta was done to r o pe s on cta the patient was found to have bilateral segmental pe s as a result heparin drip was started after testing stool guiac which was negative ivc stent was subsequently placed without any complications heparin was stopped in the setting of guaiac positive stool asa 81mg was started for anticoagulation prophylaxis pleural effusions bilateral chronic effusions has had pleurodeses in the past the follwing ct findings were seen on ct chest progressive consolidation of the right lung sparing only the apex and obscuring previous tumor infiltration is probably due to restrictive effects of circumferential right pleural thickening partially calcified following pleurodesis despite a small residual pericardial effusion and the indwelling pericardial drain the small size of the right atrium if not due to hypovolemia may indicate constrictive physiology clinical correlation is needed since the patient was symptomatically improved with good oxygen saturations following the pericardiocentesis it was deduced that the pleural effusions were not a significant contributor to her presenting complaints the pleural effusions remained stable throughout the remainder of her hospitalization gi bleed downtrending hct in the setting of blood clots following an enema were concerning for gi bleed lovenox which was started in the setting of pe was changed to heparin gi was consulted who recommended that heparin be discontinued and that no further anticoagulation be given aspirin was started for anticoagulation in the setting of afib as recommended by cardiology afib with rvr the patient triggered on for heart rate in the and found to have atrial fibrillation she was effectively rate controlled with iv lopressor pushes she subsequently had several more episodes of afib with rvr that were precipitated by sitting up and moving to the cammode she responded to lopressor pushes she was started on po metoprolol tartrate which was titrated to 50mg hospital1 based on the recommendations of a cardiology consult cardiology diagnosed her arrhythmia as asymptomatic episodic paroxysmal atrial fibrillation requiring no intervention with antiarrhythmic medications because she spontaneously converts on her own and only gentle rate control due to repeated episodes of asymptomatic tachycardia due to afib she was taken off of telemetry monitoring per cardiology partial bowel obstruction over the course of the hospitalization she developed a partial bowel obstruction presenting with a tense tender abdomen abdominal pain and nausea gi was consulted who diagnosed the partial obstruction and bleeding as being due to invasion of the colonic wall by her cancer she was made npo and her diet was gently advanced to clears a kub was obtained which ruled out perforation and showed significant constipation supportive laxatives were given orally and rectally daily but to no significant avail to date she has had fewer than bowel movements which have been watery and loose she continues to tolerate a conservative full clear liquid diet without any abdominal pain or nausea anemia was transfused units in effort to increase hemoglobin in the setting of sinus tachycardia and blood clots per rectum bacteremia the patient had gram positive cocci growing in clusters coagulase negative which grew in her blood from culture sample taken from her port on most probably a contaminant since the patient had no leukocytosis fevers or other clinical signs of an infection no signs of infection at her port either the patient had also grown staph bacteria coagulase negative from urine culture taken this bacteremia could be caused by infected port even though the port site does not have any erythema or fluctuation it also could still be contamination because of no clinical signs of fever or leukocytosis started and currently continuing vancomycin as a precaution we took another blood sample from her port on to reassess subsequent cultures were negative and antibiotics were discontinued last name un developed elevated creatinine suggestive of pre renal last name un which resolved to her baseline with supportive ivf complicated uti developed a uti in the setting of a recent indwelling urinary catheter she was treated with cipro and sent home with day of antibiotics for a total course of days peritoneal carcinoma failed multiple treatments including two cycles of alimta was decided during this admission that further treatment would be with palliative intent medications on admission codeine guaifenesin mg mg ml compazine mg hours as needed for nausea dexamethasone mg one tablet s by mouth twice a day the day before the day of and the day after chemotherapy dicyclomine mg capsule s by mouth four times a day prescribed by other provider discharge meds not started med yet folic acid mg hydromorphone mg tablet s by mouth 2very hours as needed for pain hydromorphone mg tablet tablet s by mouth q3h every three hours as needed for pain prescribed by other provider discharge meds lorazepam mg tablet tablet s by mouth q8 hours as needed for nausea insomnia reglan mg tablet qidachs ondansetron hcl mg tablet s by mouth q8 hours as needed for nausea bisacodyl mg tablet tablet s by mouth daily daily as needed for constipation docusate sodium senna mg tabletonce a day discharge medications codeine guaifenesin mg ml syrup sig mls po q6h every hours as needed for cough prochlorperazine maleate mg tablet sig one tablet po every six hours as needed for nausea disp tablet s refills lorazepam mg tablet sig tablets po every eight hours as needed for nausea hold for oversedation disp tablet s refills heparin porcine pf unit ml syringe sig one ml intravenous prn as needed as needed for line flush heparin lock flush porcine unit ml syringe sig one ml intravenous prn as needed as needed for de accessing port fentanyl mcg hr patch hr sig one patch hr transdermal q72h every hours disp patch hr s refills ipratropium bromide solution sig one inhalation q6h every hours disp refills metoclopramide mg tablet sig one tablet po q6h every hours disp tablet s refills metoprolol tartrate mg tablet sig one tablet po bid times a day disp tablet s refills ciprofloxacin mg tablet sig one tablet po q12h every hours for days disp tablet s refills aspirin mg tablet chewable sig one tablet chewable po daily daily disp tablet chewable s refills bisacodyl mg suppository sig one suppository rectal daily daily for constipation may refuse hold for diarrhea disp suppository s refills lactulose gram ml syrup sig thirty ml po q8h every hours as needed for constipation may refuse hold for diarrhea disp units refills polyethylene glycol gram dose powder sig one po bid times a day for constipation patient may refuse hold for diarrhea disp units refills morphine mg ml solution sig mg po q2h every hours as needed for pain disp units refills ondansetron mg tablet rapid dissolve sig one tablet rapid dissolve po every eight hours as needed for nausea dissolve sublingually disp tablet rapid dissolve s refills discharge disposition extended care facility hospital1 lower doctor last name discharge diagnosis primary peritoneal carcinoma secondary pericardial effusion discharge condition mental status confused sometimes level of consciousness lethargic but arousable activity status bedbound discharge instructions it has been my privilege to take care of you in the hospital you were brought to the hospital because of worsening shortness of breath several imaging studies showed fluid around your heart this fluid was successfully drained without complication and your diffuculty breathing improved radiographic imaging also showed fluid accumulating in your chest cavity known as pleural effusions these fluid collections remained stable and were not thought to be contributing significantly to your shortness of breath because your symptoms improved after draining fluid from around your heart further radiographic imaging of your chest showed clots in both lungs to prevent further clots you were started on an anticoagulation medication but at a low dose because blood clots observed in your rectum raised concern for gastrointestinal bleeding due to the risk of bleeding presented by increasing the anticoagulation medication in the setting of a suspected gastrointestinal bleed the decision was made to place a filter in your inferior vena cava instead the inferior vena cava is a major vein feeding blood into the heart this was done to prevent further clots from being pumped into your lungs this procedure was successfully completed and the decision was made to stop the anticoagulation medication and to start a conservative safe dose of aspirin in its place during your hospitalization you developed several bouts of rapid heart rate found to be caused by an irregular heart rhythm known as atrial fibrillation the episodes were controlled with a medication that slows the heart rate to safe levels known as metoprolol cardiology specialists saw you in the hospital and diagnosed your heart rhythm as intermittent paroxysmal atrial fibrillation which is a rhythm that often causes patients who have it no symptoms and which corrects itself given this diagnosis and that you experienced no symptoms from the rhythm we stopped 24h monitoring of your heart based on the recommendations of our cardiac colleagues we will be discharging you on metoprolol due in part to your progressive peritoneal cancer you developed a partial bowel obstruction during this hospitalization radiographic imaging showed no evidence of a complete bowel obstruction or evidence of a hole in your bowel but did show that you were quite backed up with stool aggressive bowel regimens were given to you by mouth and per rectum with mixed success you continued to pass gas per rectum over the course of the hospitalization but you only had intermittent watery bowel movements in addition you had several episodes of abdominal pain without associated nausea which were partially relieved with iv and oral morphine after these episodes we made your diet order nothing per mouth npo and slowly advanced your nutrition as tolerated we were very conservative in advancing your diet because you have not had a sizable bowel movement for some time now you will be discharged on an agressive bowel regimen by mouth and per rectum and on a full liquid diet during this hospitalization your kidneys showed temporary signs of dehydration but this resolved with intravenous fluid you were also found to have a suspected urinary tract infection which was treated with oral antibiotics you will be discharged on this antibiotic to complete a total day course other than what is detailed below no changes were made to your outpatient medication regimen new ciprofloxacin 500mg 2x daily x days last day new metoprolol 50mg 2x daily new aspirin 81mg daily new bisacodyl mg per rectum daily as needed for constipation new lactulose ml by mouth every 8h as needed for constipation new polyethylene glycol 17g by mouth 2x daily new fentanyl mcg hr transdermal patch replaced every 72h new morphine sulfate oral soln mg by mouth every 2h as needed for pain new ipratropium bromide neb inhaled every 6h increased to metoclopramide mg every 6h as needed for nausea decreased to ondansetron hcl mg tablet s by mouth every 8h as needed for nausea stopped hydromorphone dilaudid mg tablet s by mouth 2very hours as needed for pain stopped dexamethasone mg one tablet s by mouth twice a day the day before the day of and the day after chemotherapy stopped dicyclomine mg capsule s by mouth four times a day stopped docusate sodium as needed for constipation stopped senna as needed for constipation stopped bisacodyl mg tablet tablet s by mouth daily as needed for constipation stopped folic acid 1mg daily the following medications were not changed unchanged codeine guaifenesin mg mg ml unchanged lorazepam mg every 8h as needed for anxiety unchanged prochlorperazine maleate mg tablet tablet po every six hours as needed for nausea followup instructions name6 md name8 md md office phone telephone fax office location hospital ward name division hematology oncology', '197.2;415.11;584.9;518.81;198.89;197.6;197.0;158.8;560.9;578.9;996.64;599.0;E879.6;238.71;427.31;285.9;38.7;37.21;37.0']\n",
            "[2022-12-13 09:53:39 concat_and_split.py->split_data():76]INFO: Row 50000 read. HADM_ID = 160760.\n",
            "Row: ['91158', '160760', 'admission date discharge date date of birth sex m service neurosurgery allergies aspirin attending first name3 lf chief complaint loss of consciousness major surgical or invasive procedure diagnostic cerebral angiogram r frontal evd placement cerebral angiogram with coiling tracheostomy peg placement r vp shunt placement history of present illness this is an year old man s p unwitnessed syncopal episode earlier the day of admission he was able to get to the phone but lost consciousness along the way to location un he intubated prior to transfer to hospital1 ct head showed sah and he was admitted to neurosurgery for further evaluation past medical history pmhx htn hl tias prior history of thalamic bleed social history social hx unknown family history unknown physical exam on admission o t af bp hr r o2sats gen wd wn comfortable nad heent pupils eoms unable to follow commands neck supple lungs cta bilaterally cardiac rrr s1 s2 abd soft nt bs extrem warm and well perfused no c c e neuro mental status intubated sedated cranial nerves unable to assess reflexes b t br pa ac normal bilaterally toes downgoing bilaterally on discharge eo spont looks around no verbal no commands withdraws all extremities perrl pertinent results ekg sinus bradycardia p r interval prolongation right bundle branch block no previous tracing available for comparison clinical correlation is suggested tracing intervals axes rate pr qrs qt qtc p qrs t telephone fax cxr an endotracheal tube has been placed with the distal tip approximately cm from the carina in satisfactory placement a nasogastric tube is also noted which extends off the inferior edge of the radiograph projecting over the left upper quadrant blunting of bilateral costophrenic angles likely indicates small effusions no definite consolidation or superimposed edema is noted there is aortic tortuosity there is prominence of the bilateral hila presumably due to enlarged pulmonary arteries the cardiac silhouette remains enlarged but stable no pneumothorax is evident there are no displaced fractures fracture deformity of the anterior right fifth rib likely reflects remote healed trauma impression limited study no definite acute pulmonary process identified there is suggestion of small bilateral pleural effusions endotracheal tube in satisfactory position cta head neck ct head there is a large amount of subarachnoid hemorrhage diffusely filling the basal cisterns bilateral sylvian fissures frontal temporal and parietal sulci and the anterior interhemispheric fissure a large amount of blood is also seen in bilateral lateral ventricles third and fourth ventricles there is no shift of midline structures there is some degree of cerebral edema there is no definite large vascular territorial infarction seen there is mild mucosal thickening of the right inferior maxillary sinus rest of the paranasal sinuses appear unremarkable there is no fracture identified on the non dedicated images provided there is a moderate sized 0x1 5cm fat attenuation lesion in the left parietal scalp with some subcutaneous thickening impression extensive subarachnoid hemorrhage involving both cerebral hemispheres basal cisterns and sylvian fissures extensive intraventricular hemorrhage involving all ventricles moderate to severe vasospasm involving bilateral mca and aca branches and distal vertebral and basilar arteries prominent basilar tip may represent a patulous tip of the basilar artery with branch vessels arising from it possibility of a basilar tip aneurysm can not be excluded ct head findings there has been interval placement of a ventriculostomy shunt through a burr hole in the right lateral aspect of the frontal bone coursing through the right lateral ventricle and terminating in the inferior aspect of the frontal doctor last name of the right lateral ventricle there is no evidence of hemorrhage surrounding the catheter impression interval placement of ventriculostomy catheter through the right lateral aspect of the frontal bone and terminating in the inferior portion of the frontal doctor last name of the right lateral ventricle expected post surgical changes large subarachnoid hemorrhage involving the convexities of both hemispheres interhemispheric fissure sylvian fissures ambient cisterns and interpeduncular fossa no shift of midline structures increased layering of blood products in the dependent portions of the lateral ventricles no significant change in ventricle size or configuration cxr findings as compared to the previous radiograph there is unchanged moderate cardiomegaly with signs of mild fluid overload minimal atelectasis at both lung bases no evidence of acute parenchymal opacities the position of the nasogastric tube is unchanged doppler rue impression no evidence of deep vein thrombosis in the right arm cta head x mm anterior communicating artery aneurysm not visible on prior cta of the head on resorption of subarachnoid hemorrhage in the suprasellar cistern sylvian cisterns ambient cisterns and cerebral convexities no new hemorrhage no hydrocephalus or shift of midline structures patulous basilar artery tip not indicative of aneurysm formation portable head ct w o contrast no evidence of new hemorrhage or territorial infarction evaluation of acute infarction is limited due to streak artifact from aneurysm coil using ct imaging modality if there is continued concern for acute ischemia mri with dwi if feasible is a more sensitive test evolution of subarachnoid and intraventricular blood unchanged placement of ventriculostomy catheter with no evidence of hydrocephalus ct head stable ventricular sizes after clamping of evd no new areas of hemorrhage continued evolution of blood products in the interhemispheric fissure cerebral convexities and occipital horns of the lateral ventricles no shift of midline structures cxr moderate to severe cardiomegaly is exaggerated by lower lung volumes substantial right lower lobe atelectasis has worsened small to moderate bilateral pleural effusion is presumed there is no pneumothorax and the upper lungs are clear left subclavian line ends at the junction of brachiocephalic veins thoracic aorta is extremely tortuous and generally large but not focally aneurysmal no pneumothorax cta head evolution of extensive subarachnoid blood products throughout the frontal parietal and occipital lobes with intraventricular extension in comparison to the examination unchanged moderate ventriculomegaly no evidence of vasospasm interval coiling of acom a aneurysm bilat lower ext veins thrombosis of one right and one left posterior tibial vein lenis impression thrombosis of one right and one left posterior tibial vein head ct impression stable moderate ventriculomegaly with no evidence of worsening hydrocephalus since drainage catheter clamping evolving bilateral frontal lobe infarcts right greater than left in the a2 distribution of the anterior cerebral artery evidence of chronic right maxillary sinusitis with a superimposed acute component or merely pooling of secretions due to patient position head ct impression stable moderate ventriculomegaly with no marked change in hydrocephalus hours after clamping the evd stable evolving bilateral aca territory frontal lobe infarcts likely due to vasospasm improvement in subarachnoid and intraventricular hemorrhage stable right maxillary inflammatory process head ct impression minimal increase in ventricular size since removal of evd stable distribution of evolving subarachnoid hemorrhage with intraventricular extension stable evolving bilateral frontal lobe aca territory infarct lenis impression no deep venous thrombosis in right or left lower extremity the bilateral posterior tibial vein thrombosis which was seen on is no longer appreciated head ct interval placement of ventricular catheter with proper placement stable sah no new hemorrhage brief hospital course mr known lastname was admitted through the emergency department on he was brought in after an unwittnessed syncopal event by notes it appears that he was able to call ems to his home and then was found unresponsive he was brought to an osh where he was intubated and then transferred to hospital1 head ct revealed large sah with ivh he was admitted to the icu and an external ventricular drain was placed he underwent cta and angiography both modalities were negative for aneurysm he was weaned off of the ventilator and extubated dilantin and nimodipine were initiated in the usual fashion the nimodipine was discontined due to first degree heart block cardiology was consulted and cleared patient for nimodpine and the patient was restarted he remained in the icu his evd was kept open at 15cm with stable icps his exam remained stable through on he had a cta of the head done which showed improving spasm when compared to but also showed a newly found 3mm acomm aneurysm his blood pressure p aramteres were changed to be less then systolic and was made npo for potential cerebral angiogram also on his dilanting level was foudn to be so he was bolused 750mg of dilantin on he was taken to the angio suite for a conventional cerebral angiogram with coiling of his acomm aneurysm the following morning he was noted to have no movement of rue and a stat head ct was performed head ct was stable and rue improved after sbp was increased to overnight patient was febrile blood and csf cultures were sent his exam continued to improve his tcd s were followed and continued to be negative for vasospasm he failed initial clamping trila of his evd and it was re opened he required re intubation for tachypnea on the 28th a bronchospcopy was performed and cultures sent on patient had persistent fevers lenis were ordered which showed bilateral thrombosis in posterior tibial veins a clamping trial of his evd was attempted and failed due to icps in the mid 20s overnight on both acs and vascular surgery were consulted for bilateral thrombosis in posterior tibial veins it was determined that clots are superficial and no intervention is needed at this time they recommended repeat lenis in five days for re evaluation of clots his evd was reclamped on patient s exam remained unchanged his evd remained clamped overnight and a portable head ct was done to evaluate ventricular size his vents were stable in comparison to previous scan and bifrontal edema was seen he will remain clamped csf was sent and has been negative on he remained stable with his evd clamped another head ct was done which remained stable his evd was removed on on patient underwent a follow up ct to evaluate his ventricular size before discharge to rehab and he seemed to be developing hydrocephalus discharge to rehab was postponed for shunt placement repeat lenis showed resolution of the previous noted clots on he was taken to the or for placement of a vp shunt a medium flow delta valve was placed non programmable post op head ct showed proper placement of the ventricular catheter no hemorrhages were noted he was transferred from the pacu to the floor his exam remained unchanged on nimodipine was discontinued he remained stable and appeared more awake on exam a bed offer was made and he was discharge to hospital1 on medications on admission tramadol damsulosin lisinopril losartan fluticasone discharge medications docusate sodium mg capsule month day one capsule po bid times a day cholecalciferol vitamin d3 unit tablet month day two tablet po daily daily multivitamin tablet month day one tablet po daily daily calcium carbonate mg calcium mg tablet chewable month day one tablet chewable po tid times a day senna mg tablet month day two tablet po hs at bedtime nystatin unit ml suspension month day five ml po qid times a day acetaminophen mg tablet month day tablets po q6h every hours as needed for fever or pain fludrocortisone mg tablet month day one tablet po bid times a day albuterol sulfate mg ml solution for nebulization month day one inhalation q6h every hours as needed for tachypnea oxycodone mg tablet month day tablets po q4h every hours as needed for pain trazodone mg tablet month day tablet po hs at bedtime as needed for insomnia chlorhexidine gluconate mouthwash month day one ml mucous membrane hospital1 times a day losartan mg tablet hospital1 one tablet po daily daily lansoprazole mg tablet rapid dissolve dr last name stitle one tablet rapid dissolve dr last name stitle daily daily discharge disposition extended care facility hospital1 location un discharge diagnosis subarachnoid hemorrhage hydrocephalus obstructive intraventricular hemorrhage cerebral artery vasospasm anterior communicating artery aneurysm right hemiparesis fever of unkown origin respiratory failure requiring tracheostomy dysphagia fevers discharge condition mental status confused always level of consciousness lethargic but arousable activity status out of bed with assistance to chair or wheelchair discharge instructions general instructions have a friend family member check your incision daily for signs of infection take your pain medicine as prescribed exercise should be limited to walking no lifting straining or excessive bending you may wash your hair only after sutures have been removed you may shower before this time using a shower cap to cover your head increase your intake of fluids and fiber as narcotic pain medicine can cause constipation we generally recommend taking an over the counter stool softener such as docusate colace while taking narcotic pain medication unless directed by your doctor do not take any anti inflammatory medicines such as motrin aspirin advil and ibuprofen etc if you were on a medication such as coumadin warfarin or plavix clopidogrel or aspirin prior to your injury you may safely resume taking this when cleared by your neurosurgeon followup instructions you will need to be seen by dr first name stitle in the neurosurgery clinic please call telephone fax for an appointment to be seen we would like to see you back in the office in weeks with a mri mra doctor last name protocol suture removal days post operatively this may be done at the rehab facility or by making an appointment with our office telephone fax completed by', '431;348.5;434.91;348.30;486;331.4;276.3;511.9;518.81;112.0;453.42;438.20;276.1;787.20;401.9;272.4;V70.7;427.69;22.1;31.1;23.4;96.72;39.75;43.11;88.41;33.24;96.6']\n",
            "[2022-12-13 09:53:39 concat_and_split.py->split_data():90]INFO: Done splitting. Train file name: data/raw/disch_train_split.csv\n"
          ]
        }
      ],
      "source": [
        "fname = '%s/notes_labeled.csv' % MIMIC_3_DIR\n",
        "base_name = \"%s/disch\" % MIMIC_3_DIR # for output\n",
        "print(fname, base_name)\n",
        "tr, dv, te = concat_and_split.split_data(fname, base_name=base_name)"
      ]
    },
    {
      "attachments": {},
      "cell_type": "markdown",
      "metadata": {
        "id": "h9Wv9a_26YtU"
      },
      "source": [
        "## Build vocabulary from training data --> `vocab.csv`"
      ]
    },
    {
      "cell_type": "code",
      "execution_count": 5,
      "metadata": {
        "colab": {
          "base_uri": "https://localhost:8080/"
        },
        "id": "f3PPTDP_6YtV",
        "outputId": "b28c87a8-1439-49b2-9e99-9894e71568ec",
        "scrolled": true
      },
      "outputs": [
        {
          "name": "stdout",
          "output_type": "stream",
          "text": [
            "reading in data...\n"
          ]
        },
        {
          "name": "stderr",
          "output_type": "stream",
          "text": [
            "[2022-12-13 09:54:33 build_vocab.py->build_vocab():80]INFO: 51917 word tokens occur in 3 or more documents, out 140795 total words\n"
          ]
        },
        {
          "name": "stdout",
          "output_type": "stream",
          "text": [
            "removing rare terms\n"
          ]
        },
        {
          "name": "stderr",
          "output_type": "stream",
          "text": [
            "[2022-12-13 09:54:33 build_vocab.py->build_vocab():89]INFO: Writing vocab to data/raw/vocab.csv\n",
            "[2022-12-13 09:54:34 build_vocab.py->build_vocab():93]INFO: Done! Some vocab examples, head: ['admission' 'date' 'discharge' 'of' 'birth'], tail: ['tracheomalatia' 'schwannomatosis' 'ghetto' 'pyocystitis' 'turon']\n"
          ]
        }
      ],
      "source": [
        "# after building, 51917 words qualify out of 140795 total\n",
        "vocab_min = 3\n",
        "vocab_filename = '%s/vocab.csv' % MIMIC_3_DIR\n",
        "build_vocab.build_vocab(vocab_min, tr, vocab_filename)"
      ]
    },
    {
      "cell_type": "markdown",
      "metadata": {
        "collapsed": true,
        "id": "3MlZZLl96YtV"
      },
      "source": [
        "## Sort each data split by length for batching"
      ]
    },
    {
      "cell_type": "code",
      "execution_count": 6,
      "metadata": {
        "collapsed": true,
        "id": "nR4K1RUH6YtV"
      },
      "outputs": [],
      "source": [
        "for splt in ['train', 'dev', 'test']:\n",
        "    filename = '%s/disch_%s_split.csv' % (MIMIC_3_DIR, splt)\n",
        "    df = pd.read_csv(filename)\n",
        "    df['length'] = df.apply(lambda row: len(str(row['TEXT']).split()), axis=1)\n",
        "    df = df.sort_values(['length'])\n",
        "    df.to_csv('%s/%s_full.csv' % (MIMIC_3_DIR, splt), index=False)"
      ]
    },
    {
      "cell_type": "markdown",
      "metadata": {
        "id": "MeEsL7L06YtV"
      },
      "source": [
        "## Pre-train word embeddings"
      ]
    },
    {
      "cell_type": "markdown",
      "metadata": {
        "id": "KFaMy5xy6YtW"
      },
      "source": [
        "Let's train word embeddings on all words"
      ]
    },
    {
      "cell_type": "code",
      "execution_count": 7,
      "metadata": {
        "colab": {
          "base_uri": "https://localhost:8080/"
        },
        "id": "ANZac6NU6YtX",
        "outputId": "d0b45d1f-f480-41bd-fa86-e33ba4a13654"
      },
      "outputs": [
        {
          "name": "stderr",
          "output_type": "stream",
          "text": [
            "[2022-12-13 10:00:46 utils.py->add_lifecycle_event():444]DEBUG: starting a new internal lifecycle event log for Word2Vec\n",
            "[2022-12-13 10:00:46 utils.py->add_lifecycle_event():448]INFO: Word2Vec lifecycle event {'params': 'Word2Vec<vocab=0, vector_size=100, alpha=0.025>', 'datetime': '2022-12-13T10:00:46.578650', 'gensim': '4.2.0', 'python': '3.10.5 (main, Jul 11 2022, 10:41:02) [GCC 9.4.0]', 'platform': 'Linux-5.15.0-56-generic-x86_64-with-glibc2.31', 'event': 'created'}\n",
            "[2022-12-13 10:00:46 word2vec.py->scan_vocab():579]INFO: collecting all words and their counts\n",
            "[2022-12-13 10:00:46 word2vec.py->_scan_vocab():562]INFO: PROGRESS: at sentence #0, processed 0 words, keeping 0 word types\n"
          ]
        },
        {
          "name": "stdout",
          "output_type": "stream",
          "text": [
            "building word2vec vocab on data/raw/disch_full.csv...\n"
          ]
        },
        {
          "name": "stderr",
          "output_type": "stream",
          "text": [
            "[2022-12-13 10:00:48 word2vec.py->_scan_vocab():562]INFO: PROGRESS: at sentence #10000, processed 11230545 words, keeping 52828 word types\n",
            "[2022-12-13 10:00:50 word2vec.py->_scan_vocab():562]INFO: PROGRESS: at sentence #20000, processed 22408775 words, keeping 73469 word types\n",
            "[2022-12-13 10:00:52 word2vec.py->_scan_vocab():562]INFO: PROGRESS: at sentence #30000, processed 33786509 words, keeping 90109 word types\n",
            "[2022-12-13 10:00:55 word2vec.py->_scan_vocab():562]INFO: PROGRESS: at sentence #40000, processed 47287714 words, keeping 109614 word types\n",
            "[2022-12-13 10:00:58 word2vec.py->_scan_vocab():562]INFO: PROGRESS: at sentence #50000, processed 63882861 words, keeping 132475 word types\n",
            "[2022-12-13 10:01:01 word2vec.py->scan_vocab():585]INFO: collected 150854 word types from a corpus of 79801387 raw words and 59652 sentences\n",
            "[2022-12-13 10:01:01 word2vec.py->prepare_vocab():634]INFO: Creating a fresh vocabulary\n",
            "[2022-12-13 10:01:01 utils.py->add_lifecycle_event():448]INFO: Word2Vec lifecycle event {'msg': 'effective_min_count=0 retains 150854 unique words (100.00% of original 150854, drops 0)', 'datetime': '2022-12-13T10:01:01.663223', 'gensim': '4.2.0', 'python': '3.10.5 (main, Jul 11 2022, 10:41:02) [GCC 9.4.0]', 'platform': 'Linux-5.15.0-56-generic-x86_64-with-glibc2.31', 'event': 'prepare_vocab'}\n",
            "[2022-12-13 10:01:01 utils.py->add_lifecycle_event():448]INFO: Word2Vec lifecycle event {'msg': 'effective_min_count=0 leaves 79801387 word corpus (100.00% of original 79801387, drops 0)', 'datetime': '2022-12-13T10:01:01.663883', 'gensim': '4.2.0', 'python': '3.10.5 (main, Jul 11 2022, 10:41:02) [GCC 9.4.0]', 'platform': 'Linux-5.15.0-56-generic-x86_64-with-glibc2.31', 'event': 'prepare_vocab'}\n",
            "[2022-12-13 10:01:02 word2vec.py->prepare_vocab():742]INFO: deleting the raw counts dictionary of 150854 items\n",
            "[2022-12-13 10:01:02 word2vec.py->prepare_vocab():745]INFO: sample=0.001 downsamples 46 most-common words\n",
            "[2022-12-13 10:01:02 utils.py->add_lifecycle_event():448]INFO: Word2Vec lifecycle event {'msg': 'downsampling leaves estimated 66427827.14550328 word corpus (83.2%% of prior 79801387)', 'datetime': '2022-12-13T10:01:02.294058', 'gensim': '4.2.0', 'python': '3.10.5 (main, Jul 11 2022, 10:41:02) [GCC 9.4.0]', 'platform': 'Linux-5.15.0-56-generic-x86_64-with-glibc2.31', 'event': 'prepare_vocab'}\n",
            "[2022-12-13 10:01:03 word2vec.py->estimate_memory():802]INFO: estimated required memory for 150854 words and 100 dimensions: 196110200 bytes\n",
            "[2022-12-13 10:01:03 word2vec.py->init_weights():860]INFO: resetting layer weights\n",
            "[2022-12-13 10:01:03 utils.py->add_lifecycle_event():448]INFO: Word2Vec lifecycle event {'update': False, 'trim_rule': 'None', 'datetime': '2022-12-13T10:01:03.211312', 'gensim': '4.2.0', 'python': '3.10.5 (main, Jul 11 2022, 10:41:02) [GCC 9.4.0]', 'platform': 'Linux-5.15.0-56-generic-x86_64-with-glibc2.31', 'event': 'build_vocab'}\n",
            "[2022-12-13 10:01:03 utils.py->add_lifecycle_event():448]INFO: Word2Vec lifecycle event {'msg': 'training model with 4 workers on 150854 vocabulary and 100 features, using sg=0 hs=0 sample=0.001 negative=5 window=5 shrink_windows=True', 'datetime': '2022-12-13T10:01:03.212241', 'gensim': '4.2.0', 'python': '3.10.5 (main, Jul 11 2022, 10:41:02) [GCC 9.4.0]', 'platform': 'Linux-5.15.0-56-generic-x86_64-with-glibc2.31', 'event': 'train'}\n"
          ]
        },
        {
          "name": "stdout",
          "output_type": "stream",
          "text": [
            "training...\n"
          ]
        },
        {
          "name": "stderr",
          "output_type": "stream",
          "text": [
            "[2022-12-13 10:01:04 word2vec.py->_log_progress():1594]INFO: EPOCH 0 - PROGRESS: at 3.97% examples, 2165013 words/s, in_qsize 6, out_qsize 2\n",
            "[2022-12-13 10:01:05 word2vec.py->_log_progress():1594]INFO: EPOCH 0 - PROGRESS: at 8.00% examples, 2196565 words/s, in_qsize 7, out_qsize 0\n",
            "[2022-12-13 10:01:06 word2vec.py->_log_progress():1594]INFO: EPOCH 0 - PROGRESS: at 12.20% examples, 2232418 words/s, in_qsize 7, out_qsize 0\n",
            "[2022-12-13 10:01:07 word2vec.py->_log_progress():1594]INFO: EPOCH 0 - PROGRESS: at 16.26% examples, 2232782 words/s, in_qsize 8, out_qsize 1\n",
            "[2022-12-13 10:01:08 word2vec.py->_log_progress():1594]INFO: EPOCH 0 - PROGRESS: at 20.50% examples, 2249299 words/s, in_qsize 7, out_qsize 0\n",
            "[2022-12-13 10:01:09 word2vec.py->_log_progress():1594]INFO: EPOCH 0 - PROGRESS: at 24.68% examples, 2263972 words/s, in_qsize 7, out_qsize 0\n",
            "[2022-12-13 10:01:10 word2vec.py->_log_progress():1594]INFO: EPOCH 0 - PROGRESS: at 28.91% examples, 2271637 words/s, in_qsize 7, out_qsize 0\n",
            "[2022-12-13 10:01:11 word2vec.py->_log_progress():1594]INFO: EPOCH 0 - PROGRESS: at 33.00% examples, 2261090 words/s, in_qsize 8, out_qsize 0\n",
            "[2022-12-13 10:01:12 word2vec.py->_log_progress():1594]INFO: EPOCH 0 - PROGRESS: at 37.10% examples, 2263500 words/s, in_qsize 7, out_qsize 0\n",
            "[2022-12-13 10:01:13 word2vec.py->_log_progress():1594]INFO: EPOCH 0 - PROGRESS: at 41.23% examples, 2269912 words/s, in_qsize 7, out_qsize 0\n",
            "[2022-12-13 10:01:14 word2vec.py->_log_progress():1594]INFO: EPOCH 0 - PROGRESS: at 45.59% examples, 2281645 words/s, in_qsize 7, out_qsize 0\n",
            "[2022-12-13 10:01:15 word2vec.py->_log_progress():1594]INFO: EPOCH 0 - PROGRESS: at 49.72% examples, 2285356 words/s, in_qsize 7, out_qsize 0\n",
            "[2022-12-13 10:01:16 word2vec.py->_log_progress():1594]INFO: EPOCH 0 - PROGRESS: at 53.70% examples, 2283265 words/s, in_qsize 8, out_qsize 0\n",
            "[2022-12-13 10:01:17 word2vec.py->_log_progress():1594]INFO: EPOCH 0 - PROGRESS: at 57.10% examples, 2275312 words/s, in_qsize 7, out_qsize 1\n",
            "[2022-12-13 10:01:18 word2vec.py->_log_progress():1594]INFO: EPOCH 0 - PROGRESS: at 60.19% examples, 2269420 words/s, in_qsize 7, out_qsize 0\n",
            "[2022-12-13 10:01:19 word2vec.py->_log_progress():1594]INFO: EPOCH 0 - PROGRESS: at 63.33% examples, 2267726 words/s, in_qsize 8, out_qsize 0\n",
            "[2022-12-13 10:01:20 word2vec.py->_log_progress():1594]INFO: EPOCH 0 - PROGRESS: at 66.44% examples, 2264014 words/s, in_qsize 8, out_qsize 0\n",
            "[2022-12-13 10:01:21 word2vec.py->_log_progress():1594]INFO: EPOCH 0 - PROGRESS: at 69.15% examples, 2260635 words/s, in_qsize 7, out_qsize 0\n",
            "[2022-12-13 10:01:22 word2vec.py->_log_progress():1594]INFO: EPOCH 0 - PROGRESS: at 71.95% examples, 2263814 words/s, in_qsize 7, out_qsize 0\n",
            "[2022-12-13 10:01:23 word2vec.py->_log_progress():1594]INFO: EPOCH 0 - PROGRESS: at 74.67% examples, 2263756 words/s, in_qsize 7, out_qsize 1\n",
            "[2022-12-13 10:01:24 word2vec.py->_log_progress():1594]INFO: EPOCH 0 - PROGRESS: at 77.43% examples, 2267350 words/s, in_qsize 7, out_qsize 0\n",
            "[2022-12-13 10:01:25 word2vec.py->_log_progress():1594]INFO: EPOCH 0 - PROGRESS: at 80.09% examples, 2264451 words/s, in_qsize 7, out_qsize 0\n",
            "[2022-12-13 10:01:26 word2vec.py->_log_progress():1594]INFO: EPOCH 0 - PROGRESS: at 82.89% examples, 2266982 words/s, in_qsize 7, out_qsize 0\n",
            "[2022-12-13 10:01:27 word2vec.py->_log_progress():1594]INFO: EPOCH 0 - PROGRESS: at 85.64% examples, 2265819 words/s, in_qsize 7, out_qsize 0\n",
            "[2022-12-13 10:01:28 word2vec.py->_log_progress():1594]INFO: EPOCH 0 - PROGRESS: at 88.33% examples, 2264768 words/s, in_qsize 7, out_qsize 0\n",
            "[2022-12-13 10:01:29 word2vec.py->_log_progress():1594]INFO: EPOCH 0 - PROGRESS: at 90.76% examples, 2255934 words/s, in_qsize 7, out_qsize 0\n",
            "[2022-12-13 10:01:30 word2vec.py->_log_progress():1594]INFO: EPOCH 0 - PROGRESS: at 93.50% examples, 2255849 words/s, in_qsize 7, out_qsize 0\n",
            "[2022-12-13 10:01:31 word2vec.py->_log_progress():1594]INFO: EPOCH 0 - PROGRESS: at 96.27% examples, 2256054 words/s, in_qsize 7, out_qsize 0\n",
            "[2022-12-13 10:01:32 word2vec.py->_log_progress():1594]INFO: EPOCH 0 - PROGRESS: at 98.84% examples, 2252726 words/s, in_qsize 7, out_qsize 0\n",
            "[2022-12-13 10:01:32 word2vec.py->_job_producer():1238]DEBUG: job loop exiting, total 8756 jobs\n",
            "[2022-12-13 10:01:32 word2vec.py->_worker_loop():1167]DEBUG: worker exiting, processed 2194 jobs\n",
            "[2022-12-13 10:01:32 word2vec.py->_log_epoch_progress():1289]DEBUG: worker thread finished; awaiting finish of 3 more threads\n",
            "[2022-12-13 10:01:32 word2vec.py->_worker_loop():1167]DEBUG: worker exiting, processed 2185 jobs\n",
            "[2022-12-13 10:01:32 word2vec.py->_log_epoch_progress():1289]DEBUG: worker thread finished; awaiting finish of 2 more threads\n",
            "[2022-12-13 10:01:32 word2vec.py->_worker_loop():1167]DEBUG: worker exiting, processed 2186 jobs\n",
            "[2022-12-13 10:01:32 word2vec.py->_log_epoch_progress():1289]DEBUG: worker thread finished; awaiting finish of 1 more threads\n",
            "[2022-12-13 10:01:32 word2vec.py->_log_epoch_progress():1289]DEBUG: worker thread finished; awaiting finish of 0 more threads\n",
            "[2022-12-13 10:01:32 word2vec.py->_log_epoch_end():1638]INFO: EPOCH 0: training on 79801387 raw words (66430731 effective words) took 29.5s, 2252097 effective words/s\n",
            "[2022-12-13 10:01:32 word2vec.py->_worker_loop():1167]DEBUG: worker exiting, processed 2191 jobs\n",
            "[2022-12-13 10:01:33 word2vec.py->_log_progress():1594]INFO: EPOCH 1 - PROGRESS: at 3.95% examples, 2162518 words/s, in_qsize 8, out_qsize 0\n",
            "[2022-12-13 10:01:34 word2vec.py->_log_progress():1594]INFO: EPOCH 1 - PROGRESS: at 7.82% examples, 2139886 words/s, in_qsize 8, out_qsize 0\n",
            "[2022-12-13 10:01:35 word2vec.py->_log_progress():1594]INFO: EPOCH 1 - PROGRESS: at 11.60% examples, 2122106 words/s, in_qsize 8, out_qsize 0\n",
            "[2022-12-13 10:01:36 word2vec.py->_log_progress():1594]INFO: EPOCH 1 - PROGRESS: at 15.78% examples, 2165691 words/s, in_qsize 7, out_qsize 0\n",
            "[2022-12-13 10:01:37 word2vec.py->_log_progress():1594]INFO: EPOCH 1 - PROGRESS: at 19.82% examples, 2178892 words/s, in_qsize 7, out_qsize 0\n",
            "[2022-12-13 10:01:38 word2vec.py->_log_progress():1594]INFO: EPOCH 1 - PROGRESS: at 23.47% examples, 2152488 words/s, in_qsize 8, out_qsize 0\n",
            "[2022-12-13 10:01:39 word2vec.py->_log_progress():1594]INFO: EPOCH 1 - PROGRESS: at 27.28% examples, 2149175 words/s, in_qsize 7, out_qsize 2\n",
            "[2022-12-13 10:01:40 word2vec.py->_log_progress():1594]INFO: EPOCH 1 - PROGRESS: at 31.53% examples, 2166142 words/s, in_qsize 7, out_qsize 1\n",
            "[2022-12-13 10:01:41 word2vec.py->_log_progress():1594]INFO: EPOCH 1 - PROGRESS: at 35.63% examples, 2174760 words/s, in_qsize 8, out_qsize 0\n",
            "[2022-12-13 10:01:42 word2vec.py->_log_progress():1594]INFO: EPOCH 1 - PROGRESS: at 38.60% examples, 2121345 words/s, in_qsize 8, out_qsize 0\n",
            "[2022-12-13 10:01:43 word2vec.py->_log_progress():1594]INFO: EPOCH 1 - PROGRESS: at 41.87% examples, 2096769 words/s, in_qsize 6, out_qsize 0\n",
            "[2022-12-13 10:01:44 word2vec.py->_log_progress():1594]INFO: EPOCH 1 - PROGRESS: at 45.86% examples, 2104189 words/s, in_qsize 7, out_qsize 0\n",
            "[2022-12-13 10:01:45 word2vec.py->_log_progress():1594]INFO: EPOCH 1 - PROGRESS: at 49.71% examples, 2109516 words/s, in_qsize 7, out_qsize 0\n",
            "[2022-12-13 10:01:46 word2vec.py->_log_progress():1594]INFO: EPOCH 1 - PROGRESS: at 52.89% examples, 2087838 words/s, in_qsize 7, out_qsize 0\n",
            "[2022-12-13 10:01:47 word2vec.py->_log_progress():1594]INFO: EPOCH 1 - PROGRESS: at 56.21% examples, 2079127 words/s, in_qsize 7, out_qsize 0\n",
            "[2022-12-13 10:01:48 word2vec.py->_log_progress():1594]INFO: EPOCH 1 - PROGRESS: at 59.10% examples, 2078615 words/s, in_qsize 7, out_qsize 0\n",
            "[2022-12-13 10:01:49 word2vec.py->_log_progress():1594]INFO: EPOCH 1 - PROGRESS: at 61.77% examples, 2070919 words/s, in_qsize 7, out_qsize 0\n",
            "[2022-12-13 10:01:50 word2vec.py->_log_progress():1594]INFO: EPOCH 1 - PROGRESS: at 64.61% examples, 2064632 words/s, in_qsize 8, out_qsize 0\n",
            "[2022-12-13 10:01:51 word2vec.py->_log_progress():1594]INFO: EPOCH 1 - PROGRESS: at 67.50% examples, 2070006 words/s, in_qsize 7, out_qsize 1\n",
            "[2022-12-13 10:01:52 word2vec.py->_log_progress():1594]INFO: EPOCH 1 - PROGRESS: at 69.96% examples, 2066005 words/s, in_qsize 7, out_qsize 0\n",
            "[2022-12-13 10:01:53 word2vec.py->_log_progress():1594]INFO: EPOCH 1 - PROGRESS: at 72.23% examples, 2058286 words/s, in_qsize 7, out_qsize 0\n",
            "[2022-12-13 10:01:54 word2vec.py->_log_progress():1594]INFO: EPOCH 1 - PROGRESS: at 74.77% examples, 2061750 words/s, in_qsize 7, out_qsize 0\n",
            "[2022-12-13 10:01:55 word2vec.py->_log_progress():1594]INFO: EPOCH 1 - PROGRESS: at 77.14% examples, 2059060 words/s, in_qsize 8, out_qsize 0\n",
            "[2022-12-13 10:01:56 word2vec.py->_log_progress():1594]INFO: EPOCH 1 - PROGRESS: at 79.73% examples, 2062847 words/s, in_qsize 7, out_qsize 0\n",
            "[2022-12-13 10:01:57 word2vec.py->_log_progress():1594]INFO: EPOCH 1 - PROGRESS: at 82.46% examples, 2070245 words/s, in_qsize 8, out_qsize 0\n",
            "[2022-12-13 10:01:58 word2vec.py->_log_progress():1594]INFO: EPOCH 1 - PROGRESS: at 84.77% examples, 2064119 words/s, in_qsize 6, out_qsize 1\n",
            "[2022-12-13 10:01:59 word2vec.py->_log_progress():1594]INFO: EPOCH 1 - PROGRESS: at 87.22% examples, 2062537 words/s, in_qsize 7, out_qsize 0\n",
            "[2022-12-13 10:02:00 word2vec.py->_log_progress():1594]INFO: EPOCH 1 - PROGRESS: at 89.87% examples, 2067069 words/s, in_qsize 7, out_qsize 0\n",
            "[2022-12-13 10:02:01 word2vec.py->_log_progress():1594]INFO: EPOCH 1 - PROGRESS: at 92.52% examples, 2070409 words/s, in_qsize 7, out_qsize 0\n",
            "[2022-12-13 10:02:02 word2vec.py->_log_progress():1594]INFO: EPOCH 1 - PROGRESS: at 95.10% examples, 2073299 words/s, in_qsize 8, out_qsize 0\n",
            "[2022-12-13 10:02:03 word2vec.py->_log_progress():1594]INFO: EPOCH 1 - PROGRESS: at 97.81% examples, 2077841 words/s, in_qsize 7, out_qsize 0\n",
            "[2022-12-13 10:02:04 word2vec.py->_job_producer():1238]DEBUG: job loop exiting, total 8756 jobs\n",
            "[2022-12-13 10:02:04 word2vec.py->_worker_loop():1167]DEBUG: worker exiting, processed 2182 jobs\n",
            "[2022-12-13 10:02:04 word2vec.py->_log_epoch_progress():1289]DEBUG: worker thread finished; awaiting finish of 3 more threads\n",
            "[2022-12-13 10:02:04 word2vec.py->_worker_loop():1167]DEBUG: worker exiting, processed 2190 jobs\n",
            "[2022-12-13 10:02:04 word2vec.py->_log_epoch_progress():1289]DEBUG: worker thread finished; awaiting finish of 2 more threads\n",
            "[2022-12-13 10:02:04 word2vec.py->_worker_loop():1167]DEBUG: worker exiting, processed 2191 jobs\n",
            "[2022-12-13 10:02:04 word2vec.py->_log_epoch_progress():1289]DEBUG: worker thread finished; awaiting finish of 1 more threads\n",
            "[2022-12-13 10:02:04 word2vec.py->_worker_loop():1167]DEBUG: worker exiting, processed 2193 jobs\n",
            "[2022-12-13 10:02:04 word2vec.py->_log_epoch_progress():1289]DEBUG: worker thread finished; awaiting finish of 0 more threads\n",
            "[2022-12-13 10:02:04 word2vec.py->_log_epoch_end():1638]INFO: EPOCH 1: training on 79801387 raw words (66424840 effective words) took 32.0s, 2077805 effective words/s\n",
            "[2022-12-13 10:02:05 word2vec.py->_log_progress():1594]INFO: EPOCH 2 - PROGRESS: at 3.65% examples, 1995863 words/s, in_qsize 7, out_qsize 0\n",
            "[2022-12-13 10:02:06 word2vec.py->_log_progress():1594]INFO: EPOCH 2 - PROGRESS: at 7.43% examples, 2032646 words/s, in_qsize 8, out_qsize 0\n",
            "[2022-12-13 10:02:07 word2vec.py->_log_progress():1594]INFO: EPOCH 2 - PROGRESS: at 10.55% examples, 1927808 words/s, in_qsize 7, out_qsize 0\n",
            "[2022-12-13 10:02:08 word2vec.py->_log_progress():1594]INFO: EPOCH 2 - PROGRESS: at 13.60% examples, 1864734 words/s, in_qsize 7, out_qsize 0\n",
            "[2022-12-13 10:02:09 word2vec.py->_log_progress():1594]INFO: EPOCH 2 - PROGRESS: at 16.18% examples, 1774712 words/s, in_qsize 8, out_qsize 0\n",
            "[2022-12-13 10:02:10 word2vec.py->_log_progress():1594]INFO: EPOCH 2 - PROGRESS: at 19.31% examples, 1762631 words/s, in_qsize 8, out_qsize 0\n",
            "[2022-12-13 10:02:11 word2vec.py->_log_progress():1594]INFO: EPOCH 2 - PROGRESS: at 23.14% examples, 1815412 words/s, in_qsize 8, out_qsize 0\n",
            "[2022-12-13 10:02:12 word2vec.py->_log_progress():1594]INFO: EPOCH 2 - PROGRESS: at 26.78% examples, 1841402 words/s, in_qsize 8, out_qsize 0\n",
            "[2022-12-13 10:02:13 word2vec.py->_log_progress():1594]INFO: EPOCH 2 - PROGRESS: at 30.97% examples, 1890089 words/s, in_qsize 7, out_qsize 0\n",
            "[2022-12-13 10:02:14 word2vec.py->_log_progress():1594]INFO: EPOCH 2 - PROGRESS: at 35.12% examples, 1925422 words/s, in_qsize 7, out_qsize 0\n",
            "[2022-12-13 10:02:15 word2vec.py->_log_progress():1594]INFO: EPOCH 2 - PROGRESS: at 38.70% examples, 1932051 words/s, in_qsize 7, out_qsize 0\n",
            "[2022-12-13 10:02:16 word2vec.py->_log_progress():1594]INFO: EPOCH 2 - PROGRESS: at 42.81% examples, 1962940 words/s, in_qsize 7, out_qsize 0\n",
            "[2022-12-13 10:02:17 word2vec.py->_log_progress():1594]INFO: EPOCH 2 - PROGRESS: at 46.47% examples, 1966459 words/s, in_qsize 7, out_qsize 0\n",
            "[2022-12-13 10:02:18 word2vec.py->_log_progress():1594]INFO: EPOCH 2 - PROGRESS: at 49.94% examples, 1965420 words/s, in_qsize 7, out_qsize 1\n",
            "[2022-12-13 10:02:19 word2vec.py->_log_progress():1594]INFO: EPOCH 2 - PROGRESS: at 53.39% examples, 1966093 words/s, in_qsize 7, out_qsize 1\n",
            "[2022-12-13 10:02:20 word2vec.py->_log_progress():1594]INFO: EPOCH 2 - PROGRESS: at 56.28% examples, 1951812 words/s, in_qsize 8, out_qsize 0\n",
            "[2022-12-13 10:02:21 word2vec.py->_log_progress():1594]INFO: EPOCH 2 - PROGRESS: at 59.03% examples, 1951991 words/s, in_qsize 7, out_qsize 0\n",
            "[2022-12-13 10:02:22 word2vec.py->_log_progress():1594]INFO: EPOCH 2 - PROGRESS: at 61.42% examples, 1940088 words/s, in_qsize 7, out_qsize 1\n",
            "[2022-12-13 10:02:23 word2vec.py->_log_progress():1594]INFO: EPOCH 2 - PROGRESS: at 64.11% examples, 1936159 words/s, in_qsize 7, out_qsize 0\n",
            "[2022-12-13 10:02:24 word2vec.py->_log_progress():1594]INFO: EPOCH 2 - PROGRESS: at 67.07% examples, 1947649 words/s, in_qsize 7, out_qsize 1\n",
            "[2022-12-13 10:02:25 word2vec.py->_log_progress():1594]INFO: EPOCH 2 - PROGRESS: at 69.35% examples, 1943277 words/s, in_qsize 8, out_qsize 1\n",
            "[2022-12-13 10:02:26 word2vec.py->_log_progress():1594]INFO: EPOCH 2 - PROGRESS: at 71.43% examples, 1933583 words/s, in_qsize 7, out_qsize 0\n",
            "[2022-12-13 10:02:27 word2vec.py->_log_progress():1594]INFO: EPOCH 2 - PROGRESS: at 73.42% examples, 1922364 words/s, in_qsize 7, out_qsize 1\n",
            "[2022-12-13 10:02:28 word2vec.py->_log_progress():1594]INFO: EPOCH 2 - PROGRESS: at 75.37% examples, 1909165 words/s, in_qsize 8, out_qsize 0\n",
            "[2022-12-13 10:02:29 word2vec.py->_log_progress():1594]INFO: EPOCH 2 - PROGRESS: at 77.30% examples, 1898067 words/s, in_qsize 7, out_qsize 0\n",
            "[2022-12-13 10:02:30 word2vec.py->_log_progress():1594]INFO: EPOCH 2 - PROGRESS: at 79.08% examples, 1882495 words/s, in_qsize 7, out_qsize 0\n",
            "[2022-12-13 10:02:31 word2vec.py->_log_progress():1594]INFO: EPOCH 2 - PROGRESS: at 81.24% examples, 1878631 words/s, in_qsize 8, out_qsize 0\n",
            "[2022-12-13 10:02:32 word2vec.py->_log_progress():1594]INFO: EPOCH 2 - PROGRESS: at 83.67% examples, 1884009 words/s, in_qsize 7, out_qsize 0\n",
            "[2022-12-13 10:02:33 word2vec.py->_log_progress():1594]INFO: EPOCH 2 - PROGRESS: at 86.27% examples, 1891406 words/s, in_qsize 7, out_qsize 0\n",
            "[2022-12-13 10:02:34 word2vec.py->_log_progress():1594]INFO: EPOCH 2 - PROGRESS: at 88.63% examples, 1893589 words/s, in_qsize 8, out_qsize 0\n",
            "[2022-12-13 10:02:35 word2vec.py->_log_progress():1594]INFO: EPOCH 2 - PROGRESS: at 91.10% examples, 1899079 words/s, in_qsize 7, out_qsize 0\n",
            "[2022-12-13 10:02:36 word2vec.py->_log_progress():1594]INFO: EPOCH 2 - PROGRESS: at 93.76% examples, 1907941 words/s, in_qsize 6, out_qsize 0\n",
            "[2022-12-13 10:02:37 word2vec.py->_log_progress():1594]INFO: EPOCH 2 - PROGRESS: at 95.65% examples, 1897852 words/s, in_qsize 8, out_qsize 0\n",
            "[2022-12-13 10:02:38 word2vec.py->_log_progress():1594]INFO: EPOCH 2 - PROGRESS: at 97.78% examples, 1893046 words/s, in_qsize 7, out_qsize 0\n",
            "[2022-12-13 10:02:39 word2vec.py->_job_producer():1238]DEBUG: job loop exiting, total 8756 jobs\n",
            "[2022-12-13 10:02:39 word2vec.py->_worker_loop():1167]DEBUG: worker exiting, processed 2196 jobs\n",
            "[2022-12-13 10:02:39 word2vec.py->_log_epoch_progress():1289]DEBUG: worker thread finished; awaiting finish of 3 more threads\n",
            "[2022-12-13 10:02:39 word2vec.py->_worker_loop():1167]DEBUG: worker exiting, processed 2194 jobs\n",
            "[2022-12-13 10:02:39 word2vec.py->_worker_loop():1167]DEBUG: worker exiting, processed 2185 jobs\n",
            "[2022-12-13 10:02:39 word2vec.py->_log_epoch_progress():1289]DEBUG: worker thread finished; awaiting finish of 2 more threads\n",
            "[2022-12-13 10:02:39 word2vec.py->_log_epoch_progress():1289]DEBUG: worker thread finished; awaiting finish of 1 more threads\n",
            "[2022-12-13 10:02:39 word2vec.py->_worker_loop():1167]DEBUG: worker exiting, processed 2181 jobs\n",
            "[2022-12-13 10:02:39 word2vec.py->_log_epoch_progress():1289]DEBUG: worker thread finished; awaiting finish of 0 more threads\n",
            "[2022-12-13 10:02:39 word2vec.py->_log_epoch_end():1638]INFO: EPOCH 2: training on 79801387 raw words (66428466 effective words) took 35.1s, 1894335 effective words/s\n",
            "[2022-12-13 10:02:40 word2vec.py->_log_progress():1594]INFO: EPOCH 3 - PROGRESS: at 3.65% examples, 1999982 words/s, in_qsize 8, out_qsize 0\n",
            "[2022-12-13 10:02:41 word2vec.py->_log_progress():1594]INFO: EPOCH 3 - PROGRESS: at 7.87% examples, 2158288 words/s, in_qsize 8, out_qsize 0\n",
            "[2022-12-13 10:02:42 word2vec.py->_log_progress():1594]INFO: EPOCH 3 - PROGRESS: at 11.85% examples, 2169037 words/s, in_qsize 7, out_qsize 0\n",
            "[2022-12-13 10:02:43 word2vec.py->_log_progress():1594]INFO: EPOCH 3 - PROGRESS: at 15.81% examples, 2171552 words/s, in_qsize 7, out_qsize 0\n",
            "[2022-12-13 10:02:44 word2vec.py->_log_progress():1594]INFO: EPOCH 3 - PROGRESS: at 19.85% examples, 2181954 words/s, in_qsize 7, out_qsize 1\n",
            "[2022-12-13 10:02:45 word2vec.py->_log_progress():1594]INFO: EPOCH 3 - PROGRESS: at 23.15% examples, 2122956 words/s, in_qsize 8, out_qsize 0\n",
            "[2022-12-13 10:02:46 word2vec.py->_log_progress():1594]INFO: EPOCH 3 - PROGRESS: at 27.03% examples, 2127718 words/s, in_qsize 8, out_qsize 0\n",
            "[2022-12-13 10:02:47 word2vec.py->_log_progress():1594]INFO: EPOCH 3 - PROGRESS: at 30.78% examples, 2115652 words/s, in_qsize 7, out_qsize 1\n",
            "[2022-12-13 10:02:48 word2vec.py->_log_progress():1594]INFO: EPOCH 3 - PROGRESS: at 34.25% examples, 2086751 words/s, in_qsize 7, out_qsize 0\n",
            "[2022-12-13 10:02:49 word2vec.py->_log_progress():1594]INFO: EPOCH 3 - PROGRESS: at 37.16% examples, 2039810 words/s, in_qsize 7, out_qsize 0\n",
            "[2022-12-13 10:02:50 word2vec.py->_log_progress():1594]INFO: EPOCH 3 - PROGRESS: at 39.67% examples, 1981477 words/s, in_qsize 8, out_qsize 0\n",
            "[2022-12-13 10:02:51 word2vec.py->_log_progress():1594]INFO: EPOCH 3 - PROGRESS: at 42.62% examples, 1954641 words/s, in_qsize 7, out_qsize 0\n",
            "[2022-12-13 10:02:52 word2vec.py->_log_progress():1594]INFO: EPOCH 3 - PROGRESS: at 45.12% examples, 1910137 words/s, in_qsize 8, out_qsize 0\n",
            "[2022-12-13 10:02:53 word2vec.py->_log_progress():1594]INFO: EPOCH 3 - PROGRESS: at 47.98% examples, 1886726 words/s, in_qsize 7, out_qsize 0\n",
            "[2022-12-13 10:02:54 word2vec.py->_log_progress():1594]INFO: EPOCH 3 - PROGRESS: at 50.73% examples, 1864039 words/s, in_qsize 8, out_qsize 0\n",
            "[2022-12-13 10:02:55 word2vec.py->_log_progress():1594]INFO: EPOCH 3 - PROGRESS: at 53.58% examples, 1850928 words/s, in_qsize 8, out_qsize 1\n",
            "[2022-12-13 10:02:56 word2vec.py->_log_progress():1594]INFO: EPOCH 3 - PROGRESS: at 56.46% examples, 1845832 words/s, in_qsize 8, out_qsize 1\n",
            "[2022-12-13 10:02:57 word2vec.py->_log_progress():1594]INFO: EPOCH 3 - PROGRESS: at 59.23% examples, 1853047 words/s, in_qsize 7, out_qsize 0\n",
            "[2022-12-13 10:02:58 word2vec.py->_log_progress():1594]INFO: EPOCH 3 - PROGRESS: at 61.69% examples, 1849442 words/s, in_qsize 7, out_qsize 0\n",
            "[2022-12-13 10:02:59 word2vec.py->_log_progress():1594]INFO: EPOCH 3 - PROGRESS: at 63.71% examples, 1827155 words/s, in_qsize 7, out_qsize 0\n",
            "[2022-12-13 10:03:00 word2vec.py->_log_progress():1594]INFO: EPOCH 3 - PROGRESS: at 66.40% examples, 1830291 words/s, in_qsize 7, out_qsize 1\n",
            "[2022-12-13 10:03:01 word2vec.py->_log_progress():1594]INFO: EPOCH 3 - PROGRESS: at 68.87% examples, 1838250 words/s, in_qsize 7, out_qsize 0\n",
            "[2022-12-13 10:03:02 word2vec.py->_log_progress():1594]INFO: EPOCH 3 - PROGRESS: at 71.72% examples, 1859969 words/s, in_qsize 8, out_qsize 0\n",
            "[2022-12-13 10:03:03 word2vec.py->_log_progress():1594]INFO: EPOCH 3 - PROGRESS: at 74.29% examples, 1872725 words/s, in_qsize 7, out_qsize 1\n",
            "[2022-12-13 10:03:04 word2vec.py->_log_progress():1594]INFO: EPOCH 3 - PROGRESS: at 76.88% examples, 1885122 words/s, in_qsize 7, out_qsize 0\n",
            "[2022-12-13 10:03:05 word2vec.py->_log_progress():1594]INFO: EPOCH 3 - PROGRESS: at 79.69% examples, 1902844 words/s, in_qsize 8, out_qsize 0\n",
            "[2022-12-13 10:03:06 word2vec.py->_log_progress():1594]INFO: EPOCH 3 - PROGRESS: at 82.24% examples, 1909719 words/s, in_qsize 8, out_qsize 0\n",
            "[2022-12-13 10:03:07 word2vec.py->_log_progress():1594]INFO: EPOCH 3 - PROGRESS: at 83.94% examples, 1892437 words/s, in_qsize 8, out_qsize 1\n",
            "[2022-12-13 10:03:08 word2vec.py->_log_progress():1594]INFO: EPOCH 3 - PROGRESS: at 86.63% examples, 1902668 words/s, in_qsize 7, out_qsize 1\n",
            "[2022-12-13 10:03:09 word2vec.py->_log_progress():1594]INFO: EPOCH 3 - PROGRESS: at 89.13% examples, 1908536 words/s, in_qsize 7, out_qsize 0\n",
            "[2022-12-13 10:03:10 word2vec.py->_log_progress():1594]INFO: EPOCH 3 - PROGRESS: at 91.59% examples, 1912273 words/s, in_qsize 6, out_qsize 3\n",
            "[2022-12-13 10:03:11 word2vec.py->_log_progress():1594]INFO: EPOCH 3 - PROGRESS: at 94.44% examples, 1925860 words/s, in_qsize 7, out_qsize 0\n",
            "[2022-12-13 10:03:12 word2vec.py->_log_progress():1594]INFO: EPOCH 3 - PROGRESS: at 96.98% examples, 1930571 words/s, in_qsize 7, out_qsize 0\n",
            "[2022-12-13 10:03:13 word2vec.py->_log_progress():1594]INFO: EPOCH 3 - PROGRESS: at 99.62% examples, 1938822 words/s, in_qsize 7, out_qsize 0\n",
            "[2022-12-13 10:03:13 word2vec.py->_job_producer():1238]DEBUG: job loop exiting, total 8756 jobs\n",
            "[2022-12-13 10:03:14 word2vec.py->_worker_loop():1167]DEBUG: worker exiting, processed 2191 jobs\n",
            "[2022-12-13 10:03:14 word2vec.py->_log_epoch_progress():1289]DEBUG: worker thread finished; awaiting finish of 3 more threads\n",
            "[2022-12-13 10:03:14 word2vec.py->_worker_loop():1167]DEBUG: worker exiting, processed 2191 jobs\n",
            "[2022-12-13 10:03:14 word2vec.py->_log_epoch_progress():1289]DEBUG: worker thread finished; awaiting finish of 2 more threads\n",
            "[2022-12-13 10:03:14 word2vec.py->_worker_loop():1167]DEBUG: worker exiting, processed 2185 jobs\n",
            "[2022-12-13 10:03:14 word2vec.py->_log_epoch_progress():1289]DEBUG: worker thread finished; awaiting finish of 1 more threads\n",
            "[2022-12-13 10:03:14 word2vec.py->_worker_loop():1167]DEBUG: worker exiting, processed 2189 jobs\n",
            "[2022-12-13 10:03:14 word2vec.py->_log_epoch_progress():1289]DEBUG: worker thread finished; awaiting finish of 0 more threads\n",
            "[2022-12-13 10:03:14 word2vec.py->_log_epoch_end():1638]INFO: EPOCH 3: training on 79801387 raw words (66431360 effective words) took 34.3s, 1938586 effective words/s\n",
            "[2022-12-13 10:03:15 word2vec.py->_log_progress():1594]INFO: EPOCH 4 - PROGRESS: at 4.08% examples, 2212233 words/s, in_qsize 7, out_qsize 0\n",
            "[2022-12-13 10:03:16 word2vec.py->_log_progress():1594]INFO: EPOCH 4 - PROGRESS: at 6.98% examples, 1908950 words/s, in_qsize 7, out_qsize 0\n",
            "[2022-12-13 10:03:17 word2vec.py->_log_progress():1594]INFO: EPOCH 4 - PROGRESS: at 10.74% examples, 1963951 words/s, in_qsize 6, out_qsize 0\n",
            "[2022-12-13 10:03:18 word2vec.py->_log_progress():1594]INFO: EPOCH 4 - PROGRESS: at 14.60% examples, 2001247 words/s, in_qsize 7, out_qsize 0\n",
            "[2022-12-13 10:03:19 word2vec.py->_log_progress():1594]INFO: EPOCH 4 - PROGRESS: at 18.13% examples, 1988932 words/s, in_qsize 7, out_qsize 0\n",
            "[2022-12-13 10:03:20 word2vec.py->_log_progress():1594]INFO: EPOCH 4 - PROGRESS: at 21.80% examples, 1994715 words/s, in_qsize 7, out_qsize 0\n",
            "[2022-12-13 10:03:21 word2vec.py->_log_progress():1594]INFO: EPOCH 4 - PROGRESS: at 25.06% examples, 1974341 words/s, in_qsize 7, out_qsize 0\n",
            "[2022-12-13 10:03:22 word2vec.py->_log_progress():1594]INFO: EPOCH 4 - PROGRESS: at 28.65% examples, 1971848 words/s, in_qsize 8, out_qsize 0\n",
            "[2022-12-13 10:03:23 word2vec.py->_log_progress():1594]INFO: EPOCH 4 - PROGRESS: at 32.23% examples, 1966720 words/s, in_qsize 7, out_qsize 0\n",
            "[2022-12-13 10:03:24 word2vec.py->_log_progress():1594]INFO: EPOCH 4 - PROGRESS: at 36.11% examples, 1985021 words/s, in_qsize 8, out_qsize 0\n",
            "[2022-12-13 10:03:25 word2vec.py->_log_progress():1594]INFO: EPOCH 4 - PROGRESS: at 39.68% examples, 1985158 words/s, in_qsize 8, out_qsize 0\n",
            "[2022-12-13 10:03:26 word2vec.py->_log_progress():1594]INFO: EPOCH 4 - PROGRESS: at 43.69% examples, 2005768 words/s, in_qsize 7, out_qsize 0\n",
            "[2022-12-13 10:03:27 word2vec.py->_log_progress():1594]INFO: EPOCH 4 - PROGRESS: at 47.82% examples, 2026087 words/s, in_qsize 8, out_qsize 0\n",
            "[2022-12-13 10:03:28 word2vec.py->_log_progress():1594]INFO: EPOCH 4 - PROGRESS: at 51.33% examples, 2022577 words/s, in_qsize 7, out_qsize 0\n",
            "[2022-12-13 10:03:29 word2vec.py->_log_progress():1594]INFO: EPOCH 4 - PROGRESS: at 54.86% examples, 2019042 words/s, in_qsize 7, out_qsize 0\n",
            "[2022-12-13 10:03:30 word2vec.py->_log_progress():1594]INFO: EPOCH 4 - PROGRESS: at 57.63% examples, 2014877 words/s, in_qsize 8, out_qsize 0\n",
            "[2022-12-13 10:03:31 word2vec.py->_log_progress():1594]INFO: EPOCH 4 - PROGRESS: at 60.32% examples, 2008704 words/s, in_qsize 7, out_qsize 1\n",
            "[2022-12-13 10:03:32 word2vec.py->_log_progress():1594]INFO: EPOCH 4 - PROGRESS: at 63.35% examples, 2016890 words/s, in_qsize 8, out_qsize 0\n",
            "[2022-12-13 10:03:33 word2vec.py->_log_progress():1594]INFO: EPOCH 4 - PROGRESS: at 66.55% examples, 2030526 words/s, in_qsize 8, out_qsize 0\n",
            "[2022-12-13 10:03:34 word2vec.py->_log_progress():1594]INFO: EPOCH 4 - PROGRESS: at 69.37% examples, 2043786 words/s, in_qsize 7, out_qsize 0\n",
            "[2022-12-13 10:03:35 word2vec.py->_log_progress():1594]INFO: EPOCH 4 - PROGRESS: at 72.09% examples, 2054181 words/s, in_qsize 8, out_qsize 0\n",
            "[2022-12-13 10:03:36 word2vec.py->_log_progress():1594]INFO: EPOCH 4 - PROGRESS: at 74.81% examples, 2064091 words/s, in_qsize 8, out_qsize 0\n",
            "[2022-12-13 10:03:37 word2vec.py->_log_progress():1594]INFO: EPOCH 4 - PROGRESS: at 77.61% examples, 2076481 words/s, in_qsize 8, out_qsize 0\n",
            "[2022-12-13 10:03:38 word2vec.py->_log_progress():1594]INFO: EPOCH 4 - PROGRESS: at 80.26% examples, 2081763 words/s, in_qsize 8, out_qsize 2\n",
            "[2022-12-13 10:03:39 word2vec.py->_log_progress():1594]INFO: EPOCH 4 - PROGRESS: at 83.02% examples, 2089736 words/s, in_qsize 7, out_qsize 0\n",
            "[2022-12-13 10:03:40 word2vec.py->_log_progress():1594]INFO: EPOCH 4 - PROGRESS: at 85.79% examples, 2096062 words/s, in_qsize 8, out_qsize 0\n",
            "[2022-12-13 10:03:41 word2vec.py->_log_progress():1594]INFO: EPOCH 4 - PROGRESS: at 88.31% examples, 2096206 words/s, in_qsize 7, out_qsize 0\n",
            "[2022-12-13 10:03:42 word2vec.py->_log_progress():1594]INFO: EPOCH 4 - PROGRESS: at 90.74% examples, 2093556 words/s, in_qsize 7, out_qsize 0\n",
            "[2022-12-13 10:03:43 word2vec.py->_log_progress():1594]INFO: EPOCH 4 - PROGRESS: at 93.36% examples, 2095905 words/s, in_qsize 7, out_qsize 0\n",
            "[2022-12-13 10:03:44 word2vec.py->_log_progress():1594]INFO: EPOCH 4 - PROGRESS: at 96.17% examples, 2102758 words/s, in_qsize 7, out_qsize 0\n",
            "[2022-12-13 10:03:45 word2vec.py->_log_progress():1594]INFO: EPOCH 4 - PROGRESS: at 98.97% examples, 2109995 words/s, in_qsize 8, out_qsize 0\n",
            "[2022-12-13 10:03:45 word2vec.py->_job_producer():1238]DEBUG: job loop exiting, total 8756 jobs\n",
            "[2022-12-13 10:03:45 word2vec.py->_worker_loop():1167]DEBUG: worker exiting, processed 2194 jobs\n",
            "[2022-12-13 10:03:45 word2vec.py->_log_epoch_progress():1289]DEBUG: worker thread finished; awaiting finish of 3 more threads\n",
            "[2022-12-13 10:03:45 word2vec.py->_worker_loop():1167]DEBUG: worker exiting, processed 2176 jobs\n",
            "[2022-12-13 10:03:45 word2vec.py->_log_epoch_progress():1289]DEBUG: worker thread finished; awaiting finish of 2 more threads\n",
            "[2022-12-13 10:03:45 word2vec.py->_worker_loop():1167]DEBUG: worker exiting, processed 2193 jobs\n",
            "[2022-12-13 10:03:45 word2vec.py->_log_epoch_progress():1289]DEBUG: worker thread finished; awaiting finish of 1 more threads\n",
            "[2022-12-13 10:03:45 word2vec.py->_worker_loop():1167]DEBUG: worker exiting, processed 2193 jobs\n",
            "[2022-12-13 10:03:45 word2vec.py->_log_epoch_progress():1289]DEBUG: worker thread finished; awaiting finish of 0 more threads\n",
            "[2022-12-13 10:03:45 word2vec.py->_log_epoch_end():1638]INFO: EPOCH 4: training on 79801387 raw words (66426067 effective words) took 31.4s, 2113360 effective words/s\n",
            "[2022-12-13 10:03:45 utils.py->add_lifecycle_event():448]INFO: Word2Vec lifecycle event {'msg': 'training on 399006935 raw words (332141464 effective words) took 162.2s, 2047154 effective words/s', 'datetime': '2022-12-13T10:03:45.458559', 'gensim': '4.2.0', 'python': '3.10.5 (main, Jul 11 2022, 10:41:02) [GCC 9.4.0]', 'platform': 'Linux-5.15.0-56-generic-x86_64-with-glibc2.31', 'event': 'train'}\n",
            "[2022-12-13 10:03:45 utils.py->add_lifecycle_event():448]INFO: Word2Vec lifecycle event {'fname_or_handle': 'data/raw/processed_full.w2v', 'separately': 'None', 'sep_limit': 10485760, 'ignore': frozenset(), 'datetime': '2022-12-13T10:03:45.459082', 'gensim': '4.2.0', 'python': '3.10.5 (main, Jul 11 2022, 10:41:02) [GCC 9.4.0]', 'platform': 'Linux-5.15.0-56-generic-x86_64-with-glibc2.31', 'event': 'saving'}\n",
            "[2022-12-13 10:03:45 utils.py->_save_specials():678]INFO: storing np array 'vectors' to data/raw/processed_full.w2v.wv.vectors.npy\n",
            "[2022-12-13 10:03:45 utils.py->_save_specials():678]INFO: storing np array 'syn1neg' to data/raw/processed_full.w2v.syn1neg.npy\n",
            "[2022-12-13 10:03:45 utils.py->_save_specials():710]INFO: not storing attribute cum_table\n",
            "[2022-12-13 10:03:45 smart_open_lib.py->open():166]DEBUG: {'uri': 'data/raw/processed_full.w2v', 'mode': 'wb', 'buffering': -1, 'encoding': None, 'errors': None, 'newline': None, 'closefd': True, 'opener': None, 'compression': 'infer_from_extension', 'transport_params': None}\n",
            "[2022-12-13 10:03:45 utils.py->_smart_save():618]INFO: saved data/raw/processed_full.w2v\n"
          ]
        },
        {
          "name": "stdout",
          "output_type": "stream",
          "text": [
            "writing embeddings to data/raw/processed_full.w2v\n"
          ]
        }
      ],
      "source": [
        "w2v_file = word_embeddings.word_embeddings('full', '%s/disch_full.csv' % MIMIC_3_DIR, 100, 0, 5)"
      ]
    },
    {
      "attachments": {},
      "cell_type": "markdown",
      "metadata": {
        "id": "WOVyIA5Z6YtX"
      },
      "source": [
        "## Write pre-trained word embeddings with new vocab --> `processed_full.embed`"
      ]
    },
    {
      "cell_type": "code",
      "execution_count": 8,
      "metadata": {
        "id": "DVO6eVwF6YtX"
      },
      "outputs": [
        {
          "name": "stderr",
          "output_type": "stream",
          "text": [
            "[2022-12-13 10:05:29 utils.py->load():482]INFO: loading Word2Vec object from data/raw/processed_full.w2v\n",
            "[2022-12-13 10:05:29 smart_open_lib.py->open():166]DEBUG: {'uri': 'data/raw/processed_full.w2v', 'mode': 'rb', 'buffering': -1, 'encoding': None, 'errors': None, 'newline': None, 'closefd': True, 'opener': None, 'compression': 'infer_from_extension', 'transport_params': None}\n",
            "[2022-12-13 10:05:29 utils.py->_load_specials():516]INFO: loading wv recursively from data/raw/processed_full.w2v.wv.* with mmap=None\n",
            "[2022-12-13 10:05:29 utils.py->_load_specials():521]INFO: loading vectors from data/raw/processed_full.w2v.wv.vectors.npy with mmap=None\n",
            "[2022-12-13 10:05:29 utils.py->_load_specials():521]INFO: loading syn1neg from data/raw/processed_full.w2v.syn1neg.npy with mmap=None\n",
            "[2022-12-13 10:05:29 utils.py->_load_specials():554]INFO: setting ignored attribute cum_table to None\n",
            "[2022-12-13 10:05:30 utils.py->add_lifecycle_event():448]INFO: Word2Vec lifecycle event {'fname': 'data/raw/processed_full.w2v', 'datetime': '2022-12-13T10:05:30.171934', 'gensim': '4.2.0', 'python': '3.10.5 (main, Jul 11 2022, 10:41:02) [GCC 9.4.0]', 'platform': 'Linux-5.15.0-56-generic-x86_64-with-glibc2.31', 'event': 'loaded'}\n",
            "100%|██████████| 51917/51917 [00:00<00:00, 170328.41it/s]\n"
          ]
        }
      ],
      "source": [
        "extract_wvs.gensim_to_embeddings('%s/processed_full.w2v' % MIMIC_3_DIR, '%s/vocab.csv' % MIMIC_3_DIR, Y)"
      ]
    },
    {
      "attachments": {},
      "cell_type": "markdown",
      "metadata": {
        "id": "4rEvFr-n6YuB"
      },
      "source": [
        "## Pre-process code descriptions using the vocab --> ERROR MISSING!!"
      ]
    },
    {
      "cell_type": "code",
      "execution_count": 1,
      "metadata": {
        "id": "6SUpuims6YuD",
        "scrolled": true
      },
      "outputs": [
        {
          "ename": "NameError",
          "evalue": "name 'vocab_index_descriptions' is not defined",
          "output_type": "error",
          "traceback": [
            "\u001b[0;31m---------------------------------------------------------------------------\u001b[0m",
            "\u001b[0;31mNameError\u001b[0m                                 Traceback (most recent call last)",
            "Cell \u001b[0;32mIn [1], line 2\u001b[0m\n\u001b[1;32m      1\u001b[0m \u001b[39m# done similar to Mullenbach 2018, get embeddings for labels!\u001b[39;00m\n\u001b[0;32m----> 2\u001b[0m vocab_index_descriptions\u001b[39m.\u001b[39mvocab_index_descriptions(\u001b[39m'\u001b[39m\u001b[39m%s\u001b[39;00m\u001b[39m/vocab.csv\u001b[39m\u001b[39m'\u001b[39m \u001b[39m%\u001b[39m MIMIC_3_DIR,\n\u001b[1;32m      3\u001b[0m                                                   \u001b[39m'\u001b[39m\u001b[39m%s\u001b[39;00m\u001b[39m/description_vectors.vocab\u001b[39m\u001b[39m'\u001b[39m \u001b[39m%\u001b[39m MIMIC_3_DIR)\n",
            "\u001b[0;31mNameError\u001b[0m: name 'vocab_index_descriptions' is not defined"
          ]
        }
      ],
      "source": [
        "# done similar to Mullenbach 2018, get embeddings for labels!\n",
        "vocab_index_descriptions.vocab_index_descriptions('%s/vocab.csv' % MIMIC_3_DIR,\n",
        "                                                  '%s/description_vectors.vocab' % MIMIC_3_DIR)"
      ]
    },
    {
      "attachments": {},
      "cell_type": "markdown",
      "metadata": {
        "id": "2q7E86lk6YuF"
      },
      "source": [
        "## Filter each split to the top 50 diagnosis/procedure codes --> `train/dev/test_50.csv`"
      ]
    },
    {
      "cell_type": "code",
      "execution_count": 10,
      "metadata": {
        "collapsed": true,
        "id": "iaV3lhUt6YuG"
      },
      "outputs": [],
      "source": [
        "Y = 50"
      ]
    },
    {
      "cell_type": "code",
      "execution_count": 11,
      "metadata": {
        "collapsed": true,
        "id": "iTd0SiSs6YuG"
      },
      "outputs": [],
      "source": [
        "# first calculate the top k\n",
        "counts = Counter()\n",
        "dfnl = pd.read_csv('%s/notes_labeled.csv' % MIMIC_3_DIR)\n",
        "for row in dfnl.itertuples():\n",
        "    for label in str(row[4]).split(';'):\n",
        "        counts[label] += 1"
      ]
    },
    {
      "cell_type": "code",
      "execution_count": 12,
      "metadata": {},
      "outputs": [
        {
          "data": {
            "text/plain": [
              "[('401.9', 20053),\n",
              " ('38.93', 14444),\n",
              " ('428.0', 12842),\n",
              " ('427.31', 12594),\n",
              " ('414.01', 12179),\n",
              " ('96.04', 9932),\n",
              " ('96.6', 9161),\n",
              " ('584.9', 8907),\n",
              " ('250.00', 8784),\n",
              " ('96.71', 8619),\n",
              " ('272.4', 8504),\n",
              " ('518.81', 7249),\n",
              " ('99.04', 7147),\n",
              " ('39.61', 6809),\n",
              " ('599.0', 6442),\n",
              " ('530.81', 6156),\n",
              " ('96.72', 5926),\n",
              " ('272.0', 5766),\n",
              " ('285.9', 5296),\n",
              " ('88.56', 5240)]"
            ]
          },
          "execution_count": 12,
          "metadata": {},
          "output_type": "execute_result"
        }
      ],
      "source": [
        "counts.most_common()[0:20]"
      ]
    },
    {
      "cell_type": "code",
      "execution_count": 13,
      "metadata": {
        "collapsed": true,
        "id": "IzsHfUsd6YuI"
      },
      "outputs": [],
      "source": [
        "codes_50 = sorted(counts.items(), key=operator.itemgetter(1), reverse=True)"
      ]
    },
    {
      "cell_type": "code",
      "execution_count": 14,
      "metadata": {
        "collapsed": true,
        "id": "7OGXtivD6YuI"
      },
      "outputs": [],
      "source": [
        "codes_50 = [code[0] for code in codes_50[:Y]]"
      ]
    },
    {
      "cell_type": "code",
      "execution_count": 15,
      "metadata": {
        "id": "OCGS4MG76YuI",
        "scrolled": true
      },
      "outputs": [
        {
          "data": {
            "text/plain": [
              "['401.9',\n",
              " '38.93',\n",
              " '428.0',\n",
              " '427.31',\n",
              " '414.01',\n",
              " '96.04',\n",
              " '96.6',\n",
              " '584.9',\n",
              " '250.00',\n",
              " '96.71',\n",
              " '272.4',\n",
              " '518.81',\n",
              " '99.04',\n",
              " '39.61',\n",
              " '599.0',\n",
              " '530.81',\n",
              " '96.72',\n",
              " '272.0',\n",
              " '285.9',\n",
              " '88.56',\n",
              " '244.9',\n",
              " '486',\n",
              " '38.91',\n",
              " '285.1',\n",
              " '36.15',\n",
              " '276.2',\n",
              " '496',\n",
              " '99.15',\n",
              " '995.92',\n",
              " 'V58.61',\n",
              " '507.0',\n",
              " '038.9',\n",
              " '88.72',\n",
              " '585.9',\n",
              " '403.90',\n",
              " '311',\n",
              " '305.1',\n",
              " '37.22',\n",
              " '412',\n",
              " '33.24',\n",
              " '39.95',\n",
              " '287.5',\n",
              " '410.71',\n",
              " '276.1',\n",
              " 'V45.81',\n",
              " '424.0',\n",
              " '45.13',\n",
              " 'V15.82',\n",
              " '511.9',\n",
              " '37.23']"
            ]
          },
          "execution_count": 15,
          "metadata": {},
          "output_type": "execute_result"
        }
      ],
      "source": [
        "codes_50"
      ]
    },
    {
      "cell_type": "code",
      "execution_count": 16,
      "metadata": {
        "collapsed": true,
        "id": "3WF5HBZI6YuI"
      },
      "outputs": [],
      "source": [
        "with open('%s/TOP_%s_CODES.csv' % (MIMIC_3_DIR, str(Y)), 'w') as of:\n",
        "    w = csv.writer(of)\n",
        "    for code in codes_50:\n",
        "        w.writerow([code])"
      ]
    },
    {
      "cell_type": "code",
      "execution_count": 17,
      "metadata": {
        "id": "KLIkR1of6YuJ"
      },
      "outputs": [
        {
          "name": "stdout",
          "output_type": "stream",
          "text": [
            "train\n",
            "dev\n",
            "test\n"
          ]
        }
      ],
      "source": [
        "for splt in ['train', 'dev', 'test']:\n",
        "    print(splt)\n",
        "    hadm_ids = set()\n",
        "    with open('%s/%s_50_hadm_ids.csv' % (MIMIC_3_DIR, splt), 'r') as f:\n",
        "        for line in f:\n",
        "            hadm_ids.add(line.rstrip())\n",
        "    with open('%s/notes_labeled.csv' % MIMIC_3_DIR, 'r') as f:\n",
        "        with open('%s/%s_%s.csv' % (MIMIC_3_DIR, splt, str(Y)), 'w') as of:\n",
        "            r = csv.reader(f)\n",
        "            w = csv.writer(of)\n",
        "            # header\n",
        "            w.writerow(next(r))\n",
        "            i = 0\n",
        "            for row in r:\n",
        "                hadm_id = row[1]\n",
        "                if hadm_id not in hadm_ids:\n",
        "                    continue\n",
        "                codes = set(str(row[3]).split(';'))\n",
        "                filtered_codes = codes.intersection(set(codes_50))\n",
        "                if len(filtered_codes) > 0:\n",
        "                    w.writerow(row[:3] + [';'.join(filtered_codes)])\n",
        "                    i += 1"
      ]
    },
    {
      "cell_type": "code",
      "execution_count": 18,
      "metadata": {
        "collapsed": true,
        "id": "X7aqxf816YuJ"
      },
      "outputs": [],
      "source": [
        "for splt in ['train', 'dev', 'test']:\n",
        "    filename = '%s/%s_%s.csv' % (MIMIC_3_DIR, splt, str(Y))\n",
        "    df = pd.read_csv(filename)\n",
        "    df['length'] = df.apply(lambda row: len(str(row['TEXT']).split()), axis=1)\n",
        "    df = df.sort_values(['length'])\n",
        "    df.to_csv('%s/%s_%s.csv' % (MIMIC_3_DIR, splt, str(Y)), index=False)"
      ]
    },
    {
      "attachments": {},
      "cell_type": "markdown",
      "metadata": {
        "id": "Rgz5GNOUI3Le"
      },
      "source": [
        "## Done!"
      ]
    },
    {
      "cell_type": "markdown",
      "metadata": {},
      "source": []
    }
  ],
  "metadata": {
    "colab": {
      "name": "dataproc_mimic_III.ipynb",
      "provenance": []
    },
    "kernelspec": {
      "display_name": "venv",
      "language": "python",
      "name": "python3"
    },
    "language_info": {
      "codemirror_mode": {
        "name": "ipython",
        "version": 3
      },
      "file_extension": ".py",
      "mimetype": "text/x-python",
      "name": "python",
      "nbconvert_exporter": "python",
      "pygments_lexer": "ipython3",
      "version": "3.10.5"
    },
    "vscode": {
      "interpreter": {
        "hash": "0824478ec0a6cd2d31a1829a4ae69205a29f77442e3ba31396463a26e9af8237"
      }
    }
  },
  "nbformat": 4,
  "nbformat_minor": 0
}
